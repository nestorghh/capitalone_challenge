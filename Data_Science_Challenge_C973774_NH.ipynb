{
 "cells": [
  {
   "cell_type": "markdown",
   "metadata": {},
   "source": [
    "# Data Science Challenge: Trips!\n",
    "\n",
    "### Workday ID (C973774) NH\n",
    "\n",
    "This coding challenge is designed to test your skill and intuition about real world data. For the challenge, we will use datacollected by the New York City Taxi and Limousine commission about “Green” Taxis. Green Taxis (as opposed to yellow ones) are taxis that are not allowed to pick up passengers inside of the densely populated areas of Manhattan. We will use the data from September 2015. We are using NYC Taxi and Limousine trip record data: (http://www.nyc.gov/html/tlc/html/about/trip_record_data.shtml)."
   ]
  },
  {
   "cell_type": "code",
   "execution_count": 157,
   "metadata": {},
   "outputs": [],
   "source": [
    "#Import modules\n",
    "import pandas as pd\n",
    "import os\n",
    "import scipy.stats\n",
    "import datetime\n",
    "import matplotlib.pyplot as plt\n",
    "import seaborn as sns\n",
    "import math\n",
    "import numpy as np\n",
    "\n",
    "from sklearn.ensemble import RandomForestClassifier\n",
    "from sklearn.preprocessing import robust_scale\n",
    "from sklearn import preprocessing\n",
    "from sklearn.preprocessing import OneHotEncoder\n",
    "from sklearn import metrics\n",
    "from sklearn.cross_validation import train_test_split\n",
    "from sklearn import datasets, linear_model\n",
    "from sklearn import model_selection, preprocessing, metrics\n"
   ]
  },
  {
   "cell_type": "code",
   "execution_count": 3,
   "metadata": {},
   "outputs": [
    {
     "data": {
      "text/plain": [
       "'/home/nestorghh'"
      ]
     },
     "execution_count": 3,
     "metadata": {},
     "output_type": "execute_result"
    }
   ],
   "source": [
    "# current directory\n",
    "os.getcwd()"
   ]
  },
  {
   "cell_type": "markdown",
   "metadata": {},
   "source": [
    "# Question 1: \n",
    "#Programmatically download and load into your favorite analytical tool the trip data for September 2015.\n",
    "#Report how many rows and columns of data you have loaded."
   ]
  },
  {
   "cell_type": "code",
   "execution_count": 4,
   "metadata": {},
   "outputs": [
    {
     "data": {
      "text/html": [
       "<div>\n",
       "<style scoped>\n",
       "    .dataframe tbody tr th:only-of-type {\n",
       "        vertical-align: middle;\n",
       "    }\n",
       "\n",
       "    .dataframe tbody tr th {\n",
       "        vertical-align: top;\n",
       "    }\n",
       "\n",
       "    .dataframe thead th {\n",
       "        text-align: right;\n",
       "    }\n",
       "</style>\n",
       "<table border=\"1\" class=\"dataframe\">\n",
       "  <thead>\n",
       "    <tr style=\"text-align: right;\">\n",
       "      <th></th>\n",
       "      <th>VendorID</th>\n",
       "      <th>lpep_pickup_datetime</th>\n",
       "      <th>Lpep_dropoff_datetime</th>\n",
       "      <th>Store_and_fwd_flag</th>\n",
       "      <th>RateCodeID</th>\n",
       "      <th>Pickup_longitude</th>\n",
       "      <th>Pickup_latitude</th>\n",
       "      <th>Dropoff_longitude</th>\n",
       "      <th>Dropoff_latitude</th>\n",
       "      <th>Passenger_count</th>\n",
       "      <th>...</th>\n",
       "      <th>Fare_amount</th>\n",
       "      <th>Extra</th>\n",
       "      <th>MTA_tax</th>\n",
       "      <th>Tip_amount</th>\n",
       "      <th>Tolls_amount</th>\n",
       "      <th>Ehail_fee</th>\n",
       "      <th>improvement_surcharge</th>\n",
       "      <th>Total_amount</th>\n",
       "      <th>Payment_type</th>\n",
       "      <th>Trip_type</th>\n",
       "    </tr>\n",
       "  </thead>\n",
       "  <tbody>\n",
       "    <tr>\n",
       "      <th>0</th>\n",
       "      <td>2</td>\n",
       "      <td>2015-09-01 00:02:34</td>\n",
       "      <td>2015-09-01 00:02:38</td>\n",
       "      <td>N</td>\n",
       "      <td>5</td>\n",
       "      <td>-73.979485</td>\n",
       "      <td>40.684956</td>\n",
       "      <td>-73.979431</td>\n",
       "      <td>40.685020</td>\n",
       "      <td>1</td>\n",
       "      <td>...</td>\n",
       "      <td>7.8</td>\n",
       "      <td>0.0</td>\n",
       "      <td>0.0</td>\n",
       "      <td>1.95</td>\n",
       "      <td>0.0</td>\n",
       "      <td>NaN</td>\n",
       "      <td>0.0</td>\n",
       "      <td>9.75</td>\n",
       "      <td>1</td>\n",
       "      <td>2.0</td>\n",
       "    </tr>\n",
       "    <tr>\n",
       "      <th>1</th>\n",
       "      <td>2</td>\n",
       "      <td>2015-09-01 00:04:20</td>\n",
       "      <td>2015-09-01 00:04:24</td>\n",
       "      <td>N</td>\n",
       "      <td>5</td>\n",
       "      <td>-74.010796</td>\n",
       "      <td>40.912216</td>\n",
       "      <td>-74.010780</td>\n",
       "      <td>40.912212</td>\n",
       "      <td>1</td>\n",
       "      <td>...</td>\n",
       "      <td>45.0</td>\n",
       "      <td>0.0</td>\n",
       "      <td>0.0</td>\n",
       "      <td>0.00</td>\n",
       "      <td>0.0</td>\n",
       "      <td>NaN</td>\n",
       "      <td>0.0</td>\n",
       "      <td>45.00</td>\n",
       "      <td>1</td>\n",
       "      <td>2.0</td>\n",
       "    </tr>\n",
       "    <tr>\n",
       "      <th>2</th>\n",
       "      <td>2</td>\n",
       "      <td>2015-09-01 00:01:50</td>\n",
       "      <td>2015-09-01 00:04:24</td>\n",
       "      <td>N</td>\n",
       "      <td>1</td>\n",
       "      <td>-73.921410</td>\n",
       "      <td>40.766708</td>\n",
       "      <td>-73.914413</td>\n",
       "      <td>40.764687</td>\n",
       "      <td>1</td>\n",
       "      <td>...</td>\n",
       "      <td>4.0</td>\n",
       "      <td>0.5</td>\n",
       "      <td>0.5</td>\n",
       "      <td>0.50</td>\n",
       "      <td>0.0</td>\n",
       "      <td>NaN</td>\n",
       "      <td>0.3</td>\n",
       "      <td>5.80</td>\n",
       "      <td>1</td>\n",
       "      <td>1.0</td>\n",
       "    </tr>\n",
       "    <tr>\n",
       "      <th>3</th>\n",
       "      <td>2</td>\n",
       "      <td>2015-09-01 00:02:36</td>\n",
       "      <td>2015-09-01 00:06:42</td>\n",
       "      <td>N</td>\n",
       "      <td>1</td>\n",
       "      <td>-73.921387</td>\n",
       "      <td>40.766678</td>\n",
       "      <td>-73.931427</td>\n",
       "      <td>40.771584</td>\n",
       "      <td>1</td>\n",
       "      <td>...</td>\n",
       "      <td>5.0</td>\n",
       "      <td>0.5</td>\n",
       "      <td>0.5</td>\n",
       "      <td>0.00</td>\n",
       "      <td>0.0</td>\n",
       "      <td>NaN</td>\n",
       "      <td>0.3</td>\n",
       "      <td>6.30</td>\n",
       "      <td>2</td>\n",
       "      <td>1.0</td>\n",
       "    </tr>\n",
       "    <tr>\n",
       "      <th>4</th>\n",
       "      <td>2</td>\n",
       "      <td>2015-09-01 00:00:14</td>\n",
       "      <td>2015-09-01 00:04:20</td>\n",
       "      <td>N</td>\n",
       "      <td>1</td>\n",
       "      <td>-73.955482</td>\n",
       "      <td>40.714046</td>\n",
       "      <td>-73.944412</td>\n",
       "      <td>40.714729</td>\n",
       "      <td>1</td>\n",
       "      <td>...</td>\n",
       "      <td>5.0</td>\n",
       "      <td>0.5</td>\n",
       "      <td>0.5</td>\n",
       "      <td>0.00</td>\n",
       "      <td>0.0</td>\n",
       "      <td>NaN</td>\n",
       "      <td>0.3</td>\n",
       "      <td>6.30</td>\n",
       "      <td>2</td>\n",
       "      <td>1.0</td>\n",
       "    </tr>\n",
       "    <tr>\n",
       "      <th>5</th>\n",
       "      <td>2</td>\n",
       "      <td>2015-09-01 00:00:39</td>\n",
       "      <td>2015-09-01 00:05:20</td>\n",
       "      <td>N</td>\n",
       "      <td>1</td>\n",
       "      <td>-73.945297</td>\n",
       "      <td>40.808186</td>\n",
       "      <td>-73.937668</td>\n",
       "      <td>40.821198</td>\n",
       "      <td>1</td>\n",
       "      <td>...</td>\n",
       "      <td>5.5</td>\n",
       "      <td>0.5</td>\n",
       "      <td>0.5</td>\n",
       "      <td>1.36</td>\n",
       "      <td>0.0</td>\n",
       "      <td>NaN</td>\n",
       "      <td>0.3</td>\n",
       "      <td>8.16</td>\n",
       "      <td>1</td>\n",
       "      <td>1.0</td>\n",
       "    </tr>\n",
       "  </tbody>\n",
       "</table>\n",
       "<p>6 rows × 21 columns</p>\n",
       "</div>"
      ],
      "text/plain": [
       "   VendorID lpep_pickup_datetime Lpep_dropoff_datetime Store_and_fwd_flag  \\\n",
       "0         2  2015-09-01 00:02:34   2015-09-01 00:02:38                  N   \n",
       "1         2  2015-09-01 00:04:20   2015-09-01 00:04:24                  N   \n",
       "2         2  2015-09-01 00:01:50   2015-09-01 00:04:24                  N   \n",
       "3         2  2015-09-01 00:02:36   2015-09-01 00:06:42                  N   \n",
       "4         2  2015-09-01 00:00:14   2015-09-01 00:04:20                  N   \n",
       "5         2  2015-09-01 00:00:39   2015-09-01 00:05:20                  N   \n",
       "\n",
       "   RateCodeID  Pickup_longitude  Pickup_latitude  Dropoff_longitude  \\\n",
       "0           5        -73.979485        40.684956         -73.979431   \n",
       "1           5        -74.010796        40.912216         -74.010780   \n",
       "2           1        -73.921410        40.766708         -73.914413   \n",
       "3           1        -73.921387        40.766678         -73.931427   \n",
       "4           1        -73.955482        40.714046         -73.944412   \n",
       "5           1        -73.945297        40.808186         -73.937668   \n",
       "\n",
       "   Dropoff_latitude  Passenger_count     ...      Fare_amount  Extra  MTA_tax  \\\n",
       "0         40.685020                1     ...              7.8    0.0      0.0   \n",
       "1         40.912212                1     ...             45.0    0.0      0.0   \n",
       "2         40.764687                1     ...              4.0    0.5      0.5   \n",
       "3         40.771584                1     ...              5.0    0.5      0.5   \n",
       "4         40.714729                1     ...              5.0    0.5      0.5   \n",
       "5         40.821198                1     ...              5.5    0.5      0.5   \n",
       "\n",
       "   Tip_amount  Tolls_amount  Ehail_fee  improvement_surcharge  Total_amount  \\\n",
       "0        1.95           0.0        NaN                    0.0          9.75   \n",
       "1        0.00           0.0        NaN                    0.0         45.00   \n",
       "2        0.50           0.0        NaN                    0.3          5.80   \n",
       "3        0.00           0.0        NaN                    0.3          6.30   \n",
       "4        0.00           0.0        NaN                    0.3          6.30   \n",
       "5        1.36           0.0        NaN                    0.3          8.16   \n",
       "\n",
       "   Payment_type  Trip_type   \n",
       "0             1         2.0  \n",
       "1             1         2.0  \n",
       "2             1         1.0  \n",
       "3             2         1.0  \n",
       "4             2         1.0  \n",
       "5             1         1.0  \n",
       "\n",
       "[6 rows x 21 columns]"
      ]
     },
     "execution_count": 4,
     "metadata": {},
     "output_type": "execute_result"
    }
   ],
   "source": [
    "# Programmatically download and load into your favorite analytical tool the trip data for September 2015.\n",
    "df=pd.read_csv('green_tripdata_2015-09.csv') # use pandas module to import the sep-2015 green-taxi data set\n",
    "df.head(6)   # Inspect data set by printing first 6 rows"
   ]
  },
  {
   "cell_type": "code",
   "execution_count": 5,
   "metadata": {},
   "outputs": [
    {
     "data": {
      "text/plain": [
       "(1494926, 21)"
      ]
     },
     "execution_count": 5,
     "metadata": {},
     "output_type": "execute_result"
    }
   ],
   "source": [
    "# Report how many rows and columns of data you have loaded.\n",
    "df.shape"
   ]
  },
  {
   "cell_type": "markdown",
   "metadata": {},
   "source": [
    "We have 1,494,926 instances and 21 columns."
   ]
  },
  {
   "cell_type": "code",
   "execution_count": 6,
   "metadata": {},
   "outputs": [
    {
     "data": {
      "text/plain": [
       "VendorID                   int64\n",
       "lpep_pickup_datetime      object\n",
       "Lpep_dropoff_datetime     object\n",
       "Store_and_fwd_flag        object\n",
       "RateCodeID                 int64\n",
       "Pickup_longitude         float64\n",
       "Pickup_latitude          float64\n",
       "Dropoff_longitude        float64\n",
       "Dropoff_latitude         float64\n",
       "Passenger_count            int64\n",
       "Trip_distance            float64\n",
       "Fare_amount              float64\n",
       "Extra                    float64\n",
       "MTA_tax                  float64\n",
       "Tip_amount               float64\n",
       "Tolls_amount             float64\n",
       "Ehail_fee                float64\n",
       "improvement_surcharge    float64\n",
       "Total_amount             float64\n",
       "Payment_type               int64\n",
       "Trip_type                float64\n",
       "dtype: object"
      ]
     },
     "execution_count": 6,
     "metadata": {},
     "output_type": "execute_result"
    }
   ],
   "source": [
    "# check data type for each column\n",
    "df.dtypes"
   ]
  },
  {
   "cell_type": "markdown",
   "metadata": {},
   "source": [
    "# Features\n",
    "VendorID: A code indicating the LPEP provider that provided the record. \n",
    "          \n",
    "          1= Creative Mobile Technologies, LLC; 2= VeriFone Inc.\n",
    "          \n",
    "lpep_pickup_datetime: The date and time when the meter was engaged.\n",
    "\n",
    "lpep_dropoff_datetime: The date and time when the meter was disengaged. \n",
    "\n",
    "Passenger_count: The number of passengers in the vehicle.\n",
    "\n",
    "Trip_distance: The elapsed trip distance in miles reported by the taximeter.\n",
    "\n",
    "PULocationID: TLC Taxi Zone in which the taximeter was engaged.\n",
    "\n",
    "DOLocationID: TLC Taxi Zone in which the taximeter was disengaged\n",
    "\n",
    "RateCodeID: The final rate code in effect at the end of the trip. \n",
    "    \n",
    "    1= Standard rate\n",
    "    2=JFK\n",
    "    3=Newark\n",
    "    4=Nassau or Westchester\n",
    "    5=Negotiated fare\n",
    "    6=Group ride\n",
    "\n",
    "Store_and_fwd_flag: This flag indicates whether the trip record was held in vehicle\n",
    "memory before sending to the vendor, aka “store and forward,” because the vehicle did not have a connection to the server.\n",
    "\n",
    "    Y= store and forward trip\n",
    "    N= not a store and forward trip\n",
    "    \n",
    "Payment_type: A numeric code signifying how the passenger paid for the trip.\n",
    "\n",
    "    1= Credit card\n",
    "    2= Cash\n",
    "    3= No charge\n",
    "    4= Dispute\n",
    "    5= Unknown\n",
    "    6= Voided trip\n",
    "\n",
    "Fare_amount: The time-and-distance fare calculated by the meter.\n",
    "\n",
    "Extra: Miscellaneous extras and surcharges. Currently, this only includes the $0.50 and $1 rush hour and overnight charges.\n",
    "\n",
    "MTA_tax: $0.50 MTA tax that is automatically triggered based on the metered rate in use.\n",
    "\n",
    "Improvement_surcharge: $0.30 improvement surcharge assessed on hailed trips at the flag\n",
    "drop. The improvement surcharge began being levied in 2015.\n",
    "\n",
    "Tip_amount: Tip amount – This field is automatically populated for credit card\n",
    "tips. Cash tips are not included.\n",
    "\n",
    "Tolls_amount: Total amount of all tolls paid in trip.\n",
    "\n",
    "Total_amount: The total amount charged to passengers. Does not include cash tips.\n",
    "\n",
    "Trip_type: A code indicating whether the trip was a street-hail or a dispatch\n",
    "that is automatically assigned based on the metered rate in use but\n",
    "can be altered by the driver.\n",
    "\n",
    "    1= Street-hail\n",
    "    2= Dispatch\n",
    "\n"
   ]
  },
  {
   "cell_type": "markdown",
   "metadata": {},
   "source": [
    "# Question 2: \n",
    "Plot a histogram of the number of the trip distance (“Trip Distance”).\n",
    "\n",
    "Report any structure you find and any hypotheses you have about that structure."
   ]
  },
  {
   "cell_type": "code",
   "execution_count": 7,
   "metadata": {},
   "outputs": [
    {
     "data": {
      "text/plain": [
       "<matplotlib.axes._subplots.AxesSubplot at 0x7f6cfc62c908>"
      ]
     },
     "execution_count": 7,
     "metadata": {},
     "output_type": "execute_result"
    },
    {
     "data": {
      "image/png": "[encoded data removed]",
      "text/plain": [
       "<Figure size 432x288 with 1 Axes>"
      ]
     },
     "metadata": {
      "needs_background": "light"
     },
     "output_type": "display_data"
    }
   ],
   "source": [
    "#plot histogram\n",
    "%matplotlib inline \n",
    "df['Trip_distance'].hist()"
   ]
  },
  {
   "cell_type": "code",
   "execution_count": 8,
   "metadata": {},
   "outputs": [
    {
     "data": {
      "text/plain": [
       "count    1.494926e+06\n",
       "mean     2.968141e+00\n",
       "std      3.076621e+00\n",
       "min      0.000000e+00\n",
       "25%      1.100000e+00\n",
       "50%      1.980000e+00\n",
       "75%      3.740000e+00\n",
       "max      6.031000e+02\n",
       "Name: Trip_distance, dtype: float64"
      ]
     },
     "execution_count": 8,
     "metadata": {},
     "output_type": "execute_result"
    }
   ],
   "source": [
    "#stats\n",
    "df['Trip_distance'].describe()"
   ]
  },
  {
   "cell_type": "code",
   "execution_count": 9,
   "metadata": {},
   "outputs": [
    {
     "data": {
      "text/plain": [
       "1321961    603.10\n",
       "478080     246.28\n",
       "944537     134.70\n",
       "516757     120.13\n",
       "1432692    112.60\n",
       "1416994    112.60\n",
       "1282594    108.62\n",
       "1457965    108.50\n",
       "1077032    105.65\n",
       "885097     100.74\n",
       "Name: Trip_distance, dtype: float64"
      ]
     },
     "execution_count": 9,
     "metadata": {},
     "output_type": "execute_result"
    }
   ],
   "source": [
    "# sort by trip_distance in descending order\n",
    "df.sort_values(by=['Trip_distance'],ascending=False)['Trip_distance'].head(10)"
   ]
  },
  {
   "cell_type": "code",
   "execution_count": 10,
   "metadata": {},
   "outputs": [],
   "source": [
    "# remove instances that are more than 4 standard deviation away\n",
    "d=df[(df.Trip_distance>=-12) & (df.Trip_distance<=12)]"
   ]
  },
  {
   "cell_type": "code",
   "execution_count": 11,
   "metadata": {},
   "outputs": [
    {
     "data": {
      "text/plain": [
       "(1464289, 21)"
      ]
     },
     "execution_count": 11,
     "metadata": {},
     "output_type": "execute_result"
    }
   ],
   "source": [
    "d.shape\n",
    "#d['Trip_distance'].describe()"
   ]
  },
  {
   "cell_type": "code",
   "execution_count": 12,
   "metadata": {},
   "outputs": [
    {
     "data": {
      "text/plain": [
       "<matplotlib.axes._subplots.AxesSubplot at 0x7f6cfc505898>"
      ]
     },
     "execution_count": 12,
     "metadata": {},
     "output_type": "execute_result"
    },
    {
     "data": {
      "image/png": "[encoded data removed]",
      "text/plain": [
       "<Figure size 432x288 with 1 Axes>"
      ]
     },
     "metadata": {
      "needs_background": "light"
     },
     "output_type": "display_data"
    }
   ],
   "source": [
    "d['Trip_distance'].hist() # do histogram again"
   ]
  },
  {
   "cell_type": "code",
   "execution_count": 246,
   "metadata": {},
   "outputs": [
    {
     "data": {
      "image/png": "[encoded data removed]",
      "text/plain": [
       "<Figure size 1080x288 with 1 Axes>"
      ]
     },
     "metadata": {},
     "output_type": "display_data"
    }
   ],
   "source": [
    "# It seems to follow sort of an exponential distribution (Lots of short trips, and a few long trips). \n",
    "\n",
    "scatter, loc, mean = scipy.stats.lognorm.fit( d['Trip_distance'], scale = d['Trip_distance'].mean(), loc=0)\n",
    "\n",
    "fig,ax = plt.subplots(1,figsize = (15,4))\n",
    "\n",
    "pdf_fitted = scipy.stats.lognorm.pdf(np.arange(0,12,.1),scatter,loc,mean)\n",
    "\n",
    "d['Trip_distance'].hist(bins=30, ax=ax)\n",
    "ax.set_xlabel('Trip Distance (miles)')\n",
    "ax.set_ylabel('Freq')\n",
    "\n",
    "ax.plot(np.arange(0,12,.1),600000*pdf_fitted,'r') \n",
    "ax.legend(['lognormal fit','data'])\n",
    "plt.show()\n"
   ]
  },
  {
   "cell_type": "markdown",
   "metadata": {},
   "source": [
    "We observe that the trip_distance is right-skewed and asymmetrical. It closely follows a log-normal distribution as we see from the plot above (https://en.wikipedia.org/wiki/Log-normal_distribution).  "
   ]
  },
  {
   "cell_type": "markdown",
   "metadata": {},
   "source": [
    "# Question 3:\n",
    "Report mean and median trip distance grouped by hour of day.\n",
    "\n",
    "We’d like to get a rough sense of identifying trips that originate or terminate at one of the NYC area airports. Can you provide a count of how many transactions fit this criteria, the average fare, and any other interesting characteristics of these trips."
   ]
  },
  {
   "cell_type": "code",
   "execution_count": 14,
   "metadata": {
    "scrolled": true
   },
   "outputs": [
    {
     "name": "stderr",
     "output_type": "stream",
     "text": [
      "/home/nestorghh/anaconda3/lib/python3.7/site-packages/ipykernel_launcher.py:2: SettingWithCopyWarning: \n",
      "A value is trying to be set on a copy of a slice from a DataFrame.\n",
      "Try using .loc[row_indexer,col_indexer] = value instead\n",
      "\n",
      "See the caveats in the documentation: http://pandas.pydata.org/pandas-docs/stable/indexing.html#indexing-view-versus-copy\n",
      "  \n",
      "/home/nestorghh/anaconda3/lib/python3.7/site-packages/ipykernel_launcher.py:3: SettingWithCopyWarning: \n",
      "A value is trying to be set on a copy of a slice from a DataFrame.\n",
      "Try using .loc[row_indexer,col_indexer] = value instead\n",
      "\n",
      "See the caveats in the documentation: http://pandas.pydata.org/pandas-docs/stable/indexing.html#indexing-view-versus-copy\n",
      "  This is separate from the ipykernel package so we can avoid doing imports until\n",
      "/home/nestorghh/anaconda3/lib/python3.7/site-packages/ipykernel_launcher.py:6: SettingWithCopyWarning: \n",
      "A value is trying to be set on a copy of a slice from a DataFrame.\n",
      "Try using .loc[row_indexer,col_indexer] = value instead\n",
      "\n",
      "See the caveats in the documentation: http://pandas.pydata.org/pandas-docs/stable/indexing.html#indexing-view-versus-copy\n",
      "  \n",
      "/home/nestorghh/anaconda3/lib/python3.7/site-packages/ipykernel_launcher.py:7: SettingWithCopyWarning: \n",
      "A value is trying to be set on a copy of a slice from a DataFrame.\n",
      "Try using .loc[row_indexer,col_indexer] = value instead\n",
      "\n",
      "See the caveats in the documentation: http://pandas.pydata.org/pandas-docs/stable/indexing.html#indexing-view-versus-copy\n",
      "  import sys\n"
     ]
    }
   ],
   "source": [
    "# create the pickup_hour attribute\n",
    "d['pickup'] = d['lpep_pickup_datetime'].apply(lambda x: datetime.datetime.strptime(x, '%Y-%m-%d %H:%M:%S'))\n",
    "d['pickup_hour'] = d['pickup'].apply(lambda x: x.hour) \n",
    "\n",
    "# create the dropoff_hour attribute\n",
    "d['dropoff'] = d['Lpep_dropoff_datetime'].apply(lambda x: datetime.datetime.strptime(x, '%Y-%m-%d %H:%M:%S'))\n",
    "d['dropoff_hour'] = d['dropoff'].apply(lambda x: x.hour)\n"
   ]
  },
  {
   "cell_type": "code",
   "execution_count": 15,
   "metadata": {},
   "outputs": [
    {
     "data": {
      "text/html": [
       "<div>\n",
       "<style scoped>\n",
       "    .dataframe tbody tr th:only-of-type {\n",
       "        vertical-align: middle;\n",
       "    }\n",
       "\n",
       "    .dataframe tbody tr th {\n",
       "        vertical-align: top;\n",
       "    }\n",
       "\n",
       "    .dataframe thead th {\n",
       "        text-align: right;\n",
       "    }\n",
       "</style>\n",
       "<table border=\"1\" class=\"dataframe\">\n",
       "  <thead>\n",
       "    <tr style=\"text-align: right;\">\n",
       "      <th></th>\n",
       "      <th>VendorID</th>\n",
       "      <th>lpep_pickup_datetime</th>\n",
       "      <th>Lpep_dropoff_datetime</th>\n",
       "      <th>Store_and_fwd_flag</th>\n",
       "      <th>RateCodeID</th>\n",
       "      <th>Pickup_longitude</th>\n",
       "      <th>Pickup_latitude</th>\n",
       "      <th>Dropoff_longitude</th>\n",
       "      <th>Dropoff_latitude</th>\n",
       "      <th>Passenger_count</th>\n",
       "      <th>...</th>\n",
       "      <th>Tolls_amount</th>\n",
       "      <th>Ehail_fee</th>\n",
       "      <th>improvement_surcharge</th>\n",
       "      <th>Total_amount</th>\n",
       "      <th>Payment_type</th>\n",
       "      <th>Trip_type</th>\n",
       "      <th>pickup</th>\n",
       "      <th>pickup_hour</th>\n",
       "      <th>dropoff</th>\n",
       "      <th>dropoff_hour</th>\n",
       "    </tr>\n",
       "  </thead>\n",
       "  <tbody>\n",
       "    <tr>\n",
       "      <th>0</th>\n",
       "      <td>2</td>\n",
       "      <td>2015-09-01 00:02:34</td>\n",
       "      <td>2015-09-01 00:02:38</td>\n",
       "      <td>N</td>\n",
       "      <td>5</td>\n",
       "      <td>-73.979485</td>\n",
       "      <td>40.684956</td>\n",
       "      <td>-73.979431</td>\n",
       "      <td>40.685020</td>\n",
       "      <td>1</td>\n",
       "      <td>...</td>\n",
       "      <td>0.0</td>\n",
       "      <td>NaN</td>\n",
       "      <td>0.0</td>\n",
       "      <td>9.75</td>\n",
       "      <td>1</td>\n",
       "      <td>2.0</td>\n",
       "      <td>2015-09-01 00:02:34</td>\n",
       "      <td>0</td>\n",
       "      <td>2015-09-01 00:02:38</td>\n",
       "      <td>0</td>\n",
       "    </tr>\n",
       "    <tr>\n",
       "      <th>1</th>\n",
       "      <td>2</td>\n",
       "      <td>2015-09-01 00:04:20</td>\n",
       "      <td>2015-09-01 00:04:24</td>\n",
       "      <td>N</td>\n",
       "      <td>5</td>\n",
       "      <td>-74.010796</td>\n",
       "      <td>40.912216</td>\n",
       "      <td>-74.010780</td>\n",
       "      <td>40.912212</td>\n",
       "      <td>1</td>\n",
       "      <td>...</td>\n",
       "      <td>0.0</td>\n",
       "      <td>NaN</td>\n",
       "      <td>0.0</td>\n",
       "      <td>45.00</td>\n",
       "      <td>1</td>\n",
       "      <td>2.0</td>\n",
       "      <td>2015-09-01 00:04:20</td>\n",
       "      <td>0</td>\n",
       "      <td>2015-09-01 00:04:24</td>\n",
       "      <td>0</td>\n",
       "    </tr>\n",
       "    <tr>\n",
       "      <th>2</th>\n",
       "      <td>2</td>\n",
       "      <td>2015-09-01 00:01:50</td>\n",
       "      <td>2015-09-01 00:04:24</td>\n",
       "      <td>N</td>\n",
       "      <td>1</td>\n",
       "      <td>-73.921410</td>\n",
       "      <td>40.766708</td>\n",
       "      <td>-73.914413</td>\n",
       "      <td>40.764687</td>\n",
       "      <td>1</td>\n",
       "      <td>...</td>\n",
       "      <td>0.0</td>\n",
       "      <td>NaN</td>\n",
       "      <td>0.3</td>\n",
       "      <td>5.80</td>\n",
       "      <td>1</td>\n",
       "      <td>1.0</td>\n",
       "      <td>2015-09-01 00:01:50</td>\n",
       "      <td>0</td>\n",
       "      <td>2015-09-01 00:04:24</td>\n",
       "      <td>0</td>\n",
       "    </tr>\n",
       "    <tr>\n",
       "      <th>3</th>\n",
       "      <td>2</td>\n",
       "      <td>2015-09-01 00:02:36</td>\n",
       "      <td>2015-09-01 00:06:42</td>\n",
       "      <td>N</td>\n",
       "      <td>1</td>\n",
       "      <td>-73.921387</td>\n",
       "      <td>40.766678</td>\n",
       "      <td>-73.931427</td>\n",
       "      <td>40.771584</td>\n",
       "      <td>1</td>\n",
       "      <td>...</td>\n",
       "      <td>0.0</td>\n",
       "      <td>NaN</td>\n",
       "      <td>0.3</td>\n",
       "      <td>6.30</td>\n",
       "      <td>2</td>\n",
       "      <td>1.0</td>\n",
       "      <td>2015-09-01 00:02:36</td>\n",
       "      <td>0</td>\n",
       "      <td>2015-09-01 00:06:42</td>\n",
       "      <td>0</td>\n",
       "    </tr>\n",
       "    <tr>\n",
       "      <th>4</th>\n",
       "      <td>2</td>\n",
       "      <td>2015-09-01 00:00:14</td>\n",
       "      <td>2015-09-01 00:04:20</td>\n",
       "      <td>N</td>\n",
       "      <td>1</td>\n",
       "      <td>-73.955482</td>\n",
       "      <td>40.714046</td>\n",
       "      <td>-73.944412</td>\n",
       "      <td>40.714729</td>\n",
       "      <td>1</td>\n",
       "      <td>...</td>\n",
       "      <td>0.0</td>\n",
       "      <td>NaN</td>\n",
       "      <td>0.3</td>\n",
       "      <td>6.30</td>\n",
       "      <td>2</td>\n",
       "      <td>1.0</td>\n",
       "      <td>2015-09-01 00:00:14</td>\n",
       "      <td>0</td>\n",
       "      <td>2015-09-01 00:04:20</td>\n",
       "      <td>0</td>\n",
       "    </tr>\n",
       "  </tbody>\n",
       "</table>\n",
       "<p>5 rows × 25 columns</p>\n",
       "</div>"
      ],
      "text/plain": [
       "   VendorID lpep_pickup_datetime Lpep_dropoff_datetime Store_and_fwd_flag  \\\n",
       "0         2  2015-09-01 00:02:34   2015-09-01 00:02:38                  N   \n",
       "1         2  2015-09-01 00:04:20   2015-09-01 00:04:24                  N   \n",
       "2         2  2015-09-01 00:01:50   2015-09-01 00:04:24                  N   \n",
       "3         2  2015-09-01 00:02:36   2015-09-01 00:06:42                  N   \n",
       "4         2  2015-09-01 00:00:14   2015-09-01 00:04:20                  N   \n",
       "\n",
       "   RateCodeID  Pickup_longitude  Pickup_latitude  Dropoff_longitude  \\\n",
       "0           5        -73.979485        40.684956         -73.979431   \n",
       "1           5        -74.010796        40.912216         -74.010780   \n",
       "2           1        -73.921410        40.766708         -73.914413   \n",
       "3           1        -73.921387        40.766678         -73.931427   \n",
       "4           1        -73.955482        40.714046         -73.944412   \n",
       "\n",
       "   Dropoff_latitude  Passenger_count      ...       Tolls_amount  Ehail_fee  \\\n",
       "0         40.685020                1      ...                0.0        NaN   \n",
       "1         40.912212                1      ...                0.0        NaN   \n",
       "2         40.764687                1      ...                0.0        NaN   \n",
       "3         40.771584                1      ...                0.0        NaN   \n",
       "4         40.714729                1      ...                0.0        NaN   \n",
       "\n",
       "   improvement_surcharge  Total_amount  Payment_type  Trip_type   \\\n",
       "0                    0.0          9.75             1         2.0   \n",
       "1                    0.0         45.00             1         2.0   \n",
       "2                    0.3          5.80             1         1.0   \n",
       "3                    0.3          6.30             2         1.0   \n",
       "4                    0.3          6.30             2         1.0   \n",
       "\n",
       "               pickup  pickup_hour             dropoff  dropoff_hour  \n",
       "0 2015-09-01 00:02:34            0 2015-09-01 00:02:38             0  \n",
       "1 2015-09-01 00:04:20            0 2015-09-01 00:04:24             0  \n",
       "2 2015-09-01 00:01:50            0 2015-09-01 00:04:24             0  \n",
       "3 2015-09-01 00:02:36            0 2015-09-01 00:06:42             0  \n",
       "4 2015-09-01 00:00:14            0 2015-09-01 00:04:20             0  \n",
       "\n",
       "[5 rows x 25 columns]"
      ]
     },
     "execution_count": 15,
     "metadata": {},
     "output_type": "execute_result"
    }
   ],
   "source": [
    "d.head()"
   ]
  },
  {
   "cell_type": "code",
   "execution_count": 16,
   "metadata": {},
   "outputs": [
    {
     "data": {
      "text/plain": [
       "(1464289, 25)"
      ]
     },
     "execution_count": 16,
     "metadata": {},
     "output_type": "execute_result"
    }
   ],
   "source": [
    "d.shape"
   ]
  },
  {
   "cell_type": "code",
   "execution_count": 17,
   "metadata": {},
   "outputs": [
    {
     "data": {
      "image/png": "[encoded data removed]",
      "text/plain": [
       "<Figure size 432x288 with 1 Axes>"
      ]
     },
     "metadata": {
      "needs_background": "light"
     },
     "output_type": "display_data"
    }
   ],
   "source": [
    "aux = d[['Trip_distance','pickup_hour']].groupby('pickup_hour').mean().plot.bar(color='green')\n",
    "aux = plt.title('Mean Trip Distance per hour', fontsize = 18)\n",
    "aux = plt.xlabel('Pickup Hour', fontsize = 18)\n",
    "aux = plt.ylabel('Trip Distance', fontsize = 18)"
   ]
  },
  {
   "cell_type": "code",
   "execution_count": 18,
   "metadata": {},
   "outputs": [
    {
     "data": {
      "text/html": [
       "<div>\n",
       "<style scoped>\n",
       "    .dataframe tbody tr th:only-of-type {\n",
       "        vertical-align: middle;\n",
       "    }\n",
       "\n",
       "    .dataframe tbody tr th {\n",
       "        vertical-align: top;\n",
       "    }\n",
       "\n",
       "    .dataframe thead th {\n",
       "        text-align: right;\n",
       "    }\n",
       "</style>\n",
       "<table border=\"1\" class=\"dataframe\">\n",
       "  <thead>\n",
       "    <tr style=\"text-align: right;\">\n",
       "      <th></th>\n",
       "      <th>Trip_distance</th>\n",
       "    </tr>\n",
       "    <tr>\n",
       "      <th>pickup_hour</th>\n",
       "      <th></th>\n",
       "    </tr>\n",
       "  </thead>\n",
       "  <tbody>\n",
       "    <tr>\n",
       "      <th>0</th>\n",
       "      <td>2.862922</td>\n",
       "    </tr>\n",
       "    <tr>\n",
       "      <th>1</th>\n",
       "      <td>2.794853</td>\n",
       "    </tr>\n",
       "    <tr>\n",
       "      <th>2</th>\n",
       "      <td>2.804221</td>\n",
       "    </tr>\n",
       "    <tr>\n",
       "      <th>3</th>\n",
       "      <td>2.878996</td>\n",
       "    </tr>\n",
       "    <tr>\n",
       "      <th>4</th>\n",
       "      <td>3.067922</td>\n",
       "    </tr>\n",
       "    <tr>\n",
       "      <th>5</th>\n",
       "      <td>3.479835</td>\n",
       "    </tr>\n",
       "    <tr>\n",
       "      <th>6</th>\n",
       "      <td>3.435350</td>\n",
       "    </tr>\n",
       "    <tr>\n",
       "      <th>7</th>\n",
       "      <td>2.943114</td>\n",
       "    </tr>\n",
       "    <tr>\n",
       "      <th>8</th>\n",
       "      <td>2.781780</td>\n",
       "    </tr>\n",
       "    <tr>\n",
       "      <th>9</th>\n",
       "      <td>2.748639</td>\n",
       "    </tr>\n",
       "    <tr>\n",
       "      <th>10</th>\n",
       "      <td>2.701786</td>\n",
       "    </tr>\n",
       "    <tr>\n",
       "      <th>11</th>\n",
       "      <td>2.634152</td>\n",
       "    </tr>\n",
       "    <tr>\n",
       "      <th>12</th>\n",
       "      <td>2.623909</td>\n",
       "    </tr>\n",
       "    <tr>\n",
       "      <th>13</th>\n",
       "      <td>2.581396</td>\n",
       "    </tr>\n",
       "    <tr>\n",
       "      <th>14</th>\n",
       "      <td>2.548953</td>\n",
       "    </tr>\n",
       "    <tr>\n",
       "      <th>15</th>\n",
       "      <td>2.533911</td>\n",
       "    </tr>\n",
       "    <tr>\n",
       "      <th>16</th>\n",
       "      <td>2.489153</td>\n",
       "    </tr>\n",
       "    <tr>\n",
       "      <th>17</th>\n",
       "      <td>2.443904</td>\n",
       "    </tr>\n",
       "    <tr>\n",
       "      <th>18</th>\n",
       "      <td>2.446030</td>\n",
       "    </tr>\n",
       "    <tr>\n",
       "      <th>19</th>\n",
       "      <td>2.513348</td>\n",
       "    </tr>\n",
       "    <tr>\n",
       "      <th>20</th>\n",
       "      <td>2.595104</td>\n",
       "    </tr>\n",
       "    <tr>\n",
       "      <th>21</th>\n",
       "      <td>2.752596</td>\n",
       "    </tr>\n",
       "    <tr>\n",
       "      <th>22</th>\n",
       "      <td>2.903972</td>\n",
       "    </tr>\n",
       "    <tr>\n",
       "      <th>23</th>\n",
       "      <td>2.925086</td>\n",
       "    </tr>\n",
       "  </tbody>\n",
       "</table>\n",
       "</div>"
      ],
      "text/plain": [
       "             Trip_distance\n",
       "pickup_hour               \n",
       "0                 2.862922\n",
       "1                 2.794853\n",
       "2                 2.804221\n",
       "3                 2.878996\n",
       "4                 3.067922\n",
       "5                 3.479835\n",
       "6                 3.435350\n",
       "7                 2.943114\n",
       "8                 2.781780\n",
       "9                 2.748639\n",
       "10                2.701786\n",
       "11                2.634152\n",
       "12                2.623909\n",
       "13                2.581396\n",
       "14                2.548953\n",
       "15                2.533911\n",
       "16                2.489153\n",
       "17                2.443904\n",
       "18                2.446030\n",
       "19                2.513348\n",
       "20                2.595104\n",
       "21                2.752596\n",
       "22                2.903972\n",
       "23                2.925086"
      ]
     },
     "execution_count": 18,
     "metadata": {},
     "output_type": "execute_result"
    }
   ],
   "source": [
    "# show numerical values\n",
    "d[['Trip_distance','pickup_hour']].groupby('pickup_hour').mean()"
   ]
  },
  {
   "cell_type": "markdown",
   "metadata": {},
   "source": [
    "### Observations:\n",
    "We observe longer trips early morning (4 till 7 am) and also towards the end of the day (10-11 pm). I conjecture that people tend to travel longer during non-rush hours. "
   ]
  },
  {
   "cell_type": "code",
   "execution_count": 19,
   "metadata": {},
   "outputs": [
    {
     "data": {
      "image/png": "[encoded data removed]",
      "text/plain": [
       "<Figure size 432x288 with 1 Axes>"
      ]
     },
     "metadata": {
      "needs_background": "light"
     },
     "output_type": "display_data"
    }
   ],
   "source": [
    "aux = d[['Trip_distance','pickup_hour']].groupby('pickup_hour').median().plot.bar(color='skyblue')\n",
    "aux = plt.title('Median Trip Distance per hour', fontsize = 18)\n",
    "aux = plt.xlabel('Pickup Hour', fontsize = 18)\n",
    "aux = plt.ylabel('Trip Distance', fontsize = 18)"
   ]
  },
  {
   "cell_type": "code",
   "execution_count": 20,
   "metadata": {},
   "outputs": [
    {
     "data": {
      "text/html": [
       "<div>\n",
       "<style scoped>\n",
       "    .dataframe tbody tr th:only-of-type {\n",
       "        vertical-align: middle;\n",
       "    }\n",
       "\n",
       "    .dataframe tbody tr th {\n",
       "        vertical-align: top;\n",
       "    }\n",
       "\n",
       "    .dataframe thead th {\n",
       "        text-align: right;\n",
       "    }\n",
       "</style>\n",
       "<table border=\"1\" class=\"dataframe\">\n",
       "  <thead>\n",
       "    <tr style=\"text-align: right;\">\n",
       "      <th></th>\n",
       "      <th>Trip_distance</th>\n",
       "    </tr>\n",
       "    <tr>\n",
       "      <th>pickup_hour</th>\n",
       "      <th></th>\n",
       "    </tr>\n",
       "  </thead>\n",
       "  <tbody>\n",
       "    <tr>\n",
       "      <th>0</th>\n",
       "      <td>2.15</td>\n",
       "    </tr>\n",
       "    <tr>\n",
       "      <th>1</th>\n",
       "      <td>2.10</td>\n",
       "    </tr>\n",
       "    <tr>\n",
       "      <th>2</th>\n",
       "      <td>2.10</td>\n",
       "    </tr>\n",
       "    <tr>\n",
       "      <th>3</th>\n",
       "      <td>2.15</td>\n",
       "    </tr>\n",
       "    <tr>\n",
       "      <th>4</th>\n",
       "      <td>2.25</td>\n",
       "    </tr>\n",
       "    <tr>\n",
       "      <th>5</th>\n",
       "      <td>2.69</td>\n",
       "    </tr>\n",
       "    <tr>\n",
       "      <th>6</th>\n",
       "      <td>2.68</td>\n",
       "    </tr>\n",
       "    <tr>\n",
       "      <th>7</th>\n",
       "      <td>2.10</td>\n",
       "    </tr>\n",
       "    <tr>\n",
       "      <th>8</th>\n",
       "      <td>1.91</td>\n",
       "    </tr>\n",
       "    <tr>\n",
       "      <th>9</th>\n",
       "      <td>1.90</td>\n",
       "    </tr>\n",
       "    <tr>\n",
       "      <th>10</th>\n",
       "      <td>1.89</td>\n",
       "    </tr>\n",
       "    <tr>\n",
       "      <th>11</th>\n",
       "      <td>1.81</td>\n",
       "    </tr>\n",
       "    <tr>\n",
       "      <th>12</th>\n",
       "      <td>1.83</td>\n",
       "    </tr>\n",
       "    <tr>\n",
       "      <th>13</th>\n",
       "      <td>1.80</td>\n",
       "    </tr>\n",
       "    <tr>\n",
       "      <th>14</th>\n",
       "      <td>1.79</td>\n",
       "    </tr>\n",
       "    <tr>\n",
       "      <th>15</th>\n",
       "      <td>1.77</td>\n",
       "    </tr>\n",
       "    <tr>\n",
       "      <th>16</th>\n",
       "      <td>1.76</td>\n",
       "    </tr>\n",
       "    <tr>\n",
       "      <th>17</th>\n",
       "      <td>1.74</td>\n",
       "    </tr>\n",
       "    <tr>\n",
       "      <th>18</th>\n",
       "      <td>1.76</td>\n",
       "    </tr>\n",
       "    <tr>\n",
       "      <th>19</th>\n",
       "      <td>1.81</td>\n",
       "    </tr>\n",
       "    <tr>\n",
       "      <th>20</th>\n",
       "      <td>1.88</td>\n",
       "    </tr>\n",
       "    <tr>\n",
       "      <th>21</th>\n",
       "      <td>2.00</td>\n",
       "    </tr>\n",
       "    <tr>\n",
       "      <th>22</th>\n",
       "      <td>2.13</td>\n",
       "    </tr>\n",
       "    <tr>\n",
       "      <th>23</th>\n",
       "      <td>2.17</td>\n",
       "    </tr>\n",
       "  </tbody>\n",
       "</table>\n",
       "</div>"
      ],
      "text/plain": [
       "             Trip_distance\n",
       "pickup_hour               \n",
       "0                     2.15\n",
       "1                     2.10\n",
       "2                     2.10\n",
       "3                     2.15\n",
       "4                     2.25\n",
       "5                     2.69\n",
       "6                     2.68\n",
       "7                     2.10\n",
       "8                     1.91\n",
       "9                     1.90\n",
       "10                    1.89\n",
       "11                    1.81\n",
       "12                    1.83\n",
       "13                    1.80\n",
       "14                    1.79\n",
       "15                    1.77\n",
       "16                    1.76\n",
       "17                    1.74\n",
       "18                    1.76\n",
       "19                    1.81\n",
       "20                    1.88\n",
       "21                    2.00\n",
       "22                    2.13\n",
       "23                    2.17"
      ]
     },
     "execution_count": 20,
     "metadata": {},
     "output_type": "execute_result"
    }
   ],
   "source": [
    "# show numerical values\n",
    "d[['Trip_distance','pickup_hour']].groupby('pickup_hour').median()"
   ]
  },
  {
   "cell_type": "markdown",
   "metadata": {},
   "source": [
    "### Observations:\n",
    "We observe that the median follows a very similar distribution per hour compared to the mean. It seems passengers take longer trips early morning (4-7 am) and then again at 10-11 pm."
   ]
  },
  {
   "cell_type": "code",
   "execution_count": 21,
   "metadata": {},
   "outputs": [],
   "source": [
    "# We’d like to get a rough sense of identifying trips that originate or \n",
    "# terminate at one of the NYC area airports. Can you provide a count of how many transactions fit this criteria, \n",
    "# the average fare, and any other interesting characteristics of these trips.\n",
    "\n",
    "\n",
    "# La Guardia : 40.778457, -73.867679\n",
    "# JFK: 40.641792, -73.777992\n",
    "# Newark: 40.694337, -74.173603\n",
    "\n",
    "# Use  the equirectangular distance approximation.\n",
    "\n",
    "def distance_lat_long(lon1,lat1,lon2,lat2):\n",
    "    lon1=lon1 * (math.pi / 180)\n",
    "    lon2=lon2 * (math.pi / 180)\n",
    "    lat1=lat1 * (math.pi / 180)\n",
    "    lat2=lat2 * (math.pi / 180)\n",
    "    R = 6371  # radius of the earth in km\n",
    "    x = (lon2 - lon1) * math.cos( 0.5*(lat2+lat1) )\n",
    "    y = lat2 - lat1\n",
    "    d = R * math.sqrt( x*x + y*y )\n",
    "    return d # returns distance in kms.\n"
   ]
  },
  {
   "cell_type": "code",
   "execution_count": 22,
   "metadata": {},
   "outputs": [
    {
     "name": "stdout",
     "output_type": "stream",
     "text": [
      "16.972880739543747\n"
     ]
    }
   ],
   "source": [
    "#check that it makes sense. The distance between JFK and La Guardia is about 10.5 miles (16.89 kms)\n",
    "print(distance_lat_long(-73.867679,40.778457,-73.777992,40.641792))"
   ]
  },
  {
   "cell_type": "code",
   "execution_count": 23,
   "metadata": {},
   "outputs": [],
   "source": [
    "# this function returns the closest airport given lat, long within 2 kilometers.\n",
    "def get_airport(row):\n",
    "    if (distance_lat_long(row['Pickup_longitude'],row['Pickup_latitude'], -73.867679, 40.778457)<=2):\n",
    "        \n",
    "        return 'La Guardia' \n",
    "    \n",
    "    if (distance_lat_long(row['Dropoff_longitude'],row['Dropoff_latitude'], -73.867679, 40.778457)<=2):\n",
    "        \n",
    "        return 'La Guardia' \n",
    "    \n",
    "    if (distance_lat_long(row['Pickup_longitude'],row['Pickup_latitude'], -73.777992, 40.641792)<=2):\n",
    "        \n",
    "        return 'JFK'\n",
    "    \n",
    "    if (distance_lat_long(row['Dropoff_longitude'],row['Dropoff_latitude'], -73.777992, 40.641792)<=2):\n",
    "        \n",
    "        return 'JFK'\n",
    "    \n",
    "    if (distance_lat_long(row['Pickup_longitude'],row['Pickup_latitude'], -74.173603, 40.694337)<=2):\n",
    "        \n",
    "        return 'Newark'\n",
    "    \n",
    "    if (distance_lat_long(row['Dropoff_longitude'],row['Dropoff_latitude'], -74.173603, 40.694337)<=2):\n",
    "        \n",
    "        return 'Newark'\n",
    "    \n",
    "    else:\n",
    "        return 'NOT' # Not an Airport pickup/dropoff"
   ]
  },
  {
   "cell_type": "code",
   "execution_count": 24,
   "metadata": {},
   "outputs": [
    {
     "name": "stderr",
     "output_type": "stream",
     "text": [
      "/home/nestorghh/anaconda3/lib/python3.7/site-packages/ipykernel_launcher.py:1: SettingWithCopyWarning: \n",
      "A value is trying to be set on a copy of a slice from a DataFrame.\n",
      "Try using .loc[row_indexer,col_indexer] = value instead\n",
      "\n",
      "See the caveats in the documentation: http://pandas.pydata.org/pandas-docs/stable/indexing.html#indexing-view-versus-copy\n",
      "  \"\"\"Entry point for launching an IPython kernel.\n"
     ]
    }
   ],
   "source": [
    "d['Airport'] = d.apply(get_airport, axis=1) "
   ]
  },
  {
   "cell_type": "code",
   "execution_count": 25,
   "metadata": {},
   "outputs": [
    {
     "data": {
      "text/html": [
       "<div>\n",
       "<style scoped>\n",
       "    .dataframe tbody tr th:only-of-type {\n",
       "        vertical-align: middle;\n",
       "    }\n",
       "\n",
       "    .dataframe tbody tr th {\n",
       "        vertical-align: top;\n",
       "    }\n",
       "\n",
       "    .dataframe thead th {\n",
       "        text-align: right;\n",
       "    }\n",
       "</style>\n",
       "<table border=\"1\" class=\"dataframe\">\n",
       "  <thead>\n",
       "    <tr style=\"text-align: right;\">\n",
       "      <th></th>\n",
       "      <th>VendorID</th>\n",
       "      <th>lpep_pickup_datetime</th>\n",
       "      <th>Lpep_dropoff_datetime</th>\n",
       "      <th>Store_and_fwd_flag</th>\n",
       "      <th>RateCodeID</th>\n",
       "      <th>Pickup_longitude</th>\n",
       "      <th>Pickup_latitude</th>\n",
       "      <th>Dropoff_longitude</th>\n",
       "      <th>Dropoff_latitude</th>\n",
       "      <th>Passenger_count</th>\n",
       "      <th>...</th>\n",
       "      <th>Ehail_fee</th>\n",
       "      <th>improvement_surcharge</th>\n",
       "      <th>Total_amount</th>\n",
       "      <th>Payment_type</th>\n",
       "      <th>Trip_type</th>\n",
       "      <th>pickup</th>\n",
       "      <th>pickup_hour</th>\n",
       "      <th>dropoff</th>\n",
       "      <th>dropoff_hour</th>\n",
       "      <th>Airport</th>\n",
       "    </tr>\n",
       "  </thead>\n",
       "  <tbody>\n",
       "    <tr>\n",
       "      <th>0</th>\n",
       "      <td>2</td>\n",
       "      <td>2015-09-01 00:02:34</td>\n",
       "      <td>2015-09-01 00:02:38</td>\n",
       "      <td>N</td>\n",
       "      <td>5</td>\n",
       "      <td>-73.979485</td>\n",
       "      <td>40.684956</td>\n",
       "      <td>-73.979431</td>\n",
       "      <td>40.685020</td>\n",
       "      <td>1</td>\n",
       "      <td>...</td>\n",
       "      <td>NaN</td>\n",
       "      <td>0.0</td>\n",
       "      <td>9.75</td>\n",
       "      <td>1</td>\n",
       "      <td>2.0</td>\n",
       "      <td>2015-09-01 00:02:34</td>\n",
       "      <td>0</td>\n",
       "      <td>2015-09-01 00:02:38</td>\n",
       "      <td>0</td>\n",
       "      <td>NOT</td>\n",
       "    </tr>\n",
       "    <tr>\n",
       "      <th>1</th>\n",
       "      <td>2</td>\n",
       "      <td>2015-09-01 00:04:20</td>\n",
       "      <td>2015-09-01 00:04:24</td>\n",
       "      <td>N</td>\n",
       "      <td>5</td>\n",
       "      <td>-74.010796</td>\n",
       "      <td>40.912216</td>\n",
       "      <td>-74.010780</td>\n",
       "      <td>40.912212</td>\n",
       "      <td>1</td>\n",
       "      <td>...</td>\n",
       "      <td>NaN</td>\n",
       "      <td>0.0</td>\n",
       "      <td>45.00</td>\n",
       "      <td>1</td>\n",
       "      <td>2.0</td>\n",
       "      <td>2015-09-01 00:04:20</td>\n",
       "      <td>0</td>\n",
       "      <td>2015-09-01 00:04:24</td>\n",
       "      <td>0</td>\n",
       "      <td>NOT</td>\n",
       "    </tr>\n",
       "    <tr>\n",
       "      <th>2</th>\n",
       "      <td>2</td>\n",
       "      <td>2015-09-01 00:01:50</td>\n",
       "      <td>2015-09-01 00:04:24</td>\n",
       "      <td>N</td>\n",
       "      <td>1</td>\n",
       "      <td>-73.921410</td>\n",
       "      <td>40.766708</td>\n",
       "      <td>-73.914413</td>\n",
       "      <td>40.764687</td>\n",
       "      <td>1</td>\n",
       "      <td>...</td>\n",
       "      <td>NaN</td>\n",
       "      <td>0.3</td>\n",
       "      <td>5.80</td>\n",
       "      <td>1</td>\n",
       "      <td>1.0</td>\n",
       "      <td>2015-09-01 00:01:50</td>\n",
       "      <td>0</td>\n",
       "      <td>2015-09-01 00:04:24</td>\n",
       "      <td>0</td>\n",
       "      <td>NOT</td>\n",
       "    </tr>\n",
       "    <tr>\n",
       "      <th>3</th>\n",
       "      <td>2</td>\n",
       "      <td>2015-09-01 00:02:36</td>\n",
       "      <td>2015-09-01 00:06:42</td>\n",
       "      <td>N</td>\n",
       "      <td>1</td>\n",
       "      <td>-73.921387</td>\n",
       "      <td>40.766678</td>\n",
       "      <td>-73.931427</td>\n",
       "      <td>40.771584</td>\n",
       "      <td>1</td>\n",
       "      <td>...</td>\n",
       "      <td>NaN</td>\n",
       "      <td>0.3</td>\n",
       "      <td>6.30</td>\n",
       "      <td>2</td>\n",
       "      <td>1.0</td>\n",
       "      <td>2015-09-01 00:02:36</td>\n",
       "      <td>0</td>\n",
       "      <td>2015-09-01 00:06:42</td>\n",
       "      <td>0</td>\n",
       "      <td>NOT</td>\n",
       "    </tr>\n",
       "    <tr>\n",
       "      <th>4</th>\n",
       "      <td>2</td>\n",
       "      <td>2015-09-01 00:00:14</td>\n",
       "      <td>2015-09-01 00:04:20</td>\n",
       "      <td>N</td>\n",
       "      <td>1</td>\n",
       "      <td>-73.955482</td>\n",
       "      <td>40.714046</td>\n",
       "      <td>-73.944412</td>\n",
       "      <td>40.714729</td>\n",
       "      <td>1</td>\n",
       "      <td>...</td>\n",
       "      <td>NaN</td>\n",
       "      <td>0.3</td>\n",
       "      <td>6.30</td>\n",
       "      <td>2</td>\n",
       "      <td>1.0</td>\n",
       "      <td>2015-09-01 00:00:14</td>\n",
       "      <td>0</td>\n",
       "      <td>2015-09-01 00:04:20</td>\n",
       "      <td>0</td>\n",
       "      <td>NOT</td>\n",
       "    </tr>\n",
       "  </tbody>\n",
       "</table>\n",
       "<p>5 rows × 26 columns</p>\n",
       "</div>"
      ],
      "text/plain": [
       "   VendorID lpep_pickup_datetime Lpep_dropoff_datetime Store_and_fwd_flag  \\\n",
       "0         2  2015-09-01 00:02:34   2015-09-01 00:02:38                  N   \n",
       "1         2  2015-09-01 00:04:20   2015-09-01 00:04:24                  N   \n",
       "2         2  2015-09-01 00:01:50   2015-09-01 00:04:24                  N   \n",
       "3         2  2015-09-01 00:02:36   2015-09-01 00:06:42                  N   \n",
       "4         2  2015-09-01 00:00:14   2015-09-01 00:04:20                  N   \n",
       "\n",
       "   RateCodeID  Pickup_longitude  Pickup_latitude  Dropoff_longitude  \\\n",
       "0           5        -73.979485        40.684956         -73.979431   \n",
       "1           5        -74.010796        40.912216         -74.010780   \n",
       "2           1        -73.921410        40.766708         -73.914413   \n",
       "3           1        -73.921387        40.766678         -73.931427   \n",
       "4           1        -73.955482        40.714046         -73.944412   \n",
       "\n",
       "   Dropoff_latitude  Passenger_count   ...     Ehail_fee  \\\n",
       "0         40.685020                1   ...           NaN   \n",
       "1         40.912212                1   ...           NaN   \n",
       "2         40.764687                1   ...           NaN   \n",
       "3         40.771584                1   ...           NaN   \n",
       "4         40.714729                1   ...           NaN   \n",
       "\n",
       "   improvement_surcharge  Total_amount  Payment_type  Trip_type   \\\n",
       "0                    0.0          9.75             1         2.0   \n",
       "1                    0.0         45.00             1         2.0   \n",
       "2                    0.3          5.80             1         1.0   \n",
       "3                    0.3          6.30             2         1.0   \n",
       "4                    0.3          6.30             2         1.0   \n",
       "\n",
       "               pickup  pickup_hour             dropoff  dropoff_hour  Airport  \n",
       "0 2015-09-01 00:02:34            0 2015-09-01 00:02:38             0      NOT  \n",
       "1 2015-09-01 00:04:20            0 2015-09-01 00:04:24             0      NOT  \n",
       "2 2015-09-01 00:01:50            0 2015-09-01 00:04:24             0      NOT  \n",
       "3 2015-09-01 00:02:36            0 2015-09-01 00:06:42             0      NOT  \n",
       "4 2015-09-01 00:00:14            0 2015-09-01 00:04:20             0      NOT  \n",
       "\n",
       "[5 rows x 26 columns]"
      ]
     },
     "execution_count": 25,
     "metadata": {},
     "output_type": "execute_result"
    }
   ],
   "source": [
    "d.head()"
   ]
  },
  {
   "cell_type": "markdown",
   "metadata": {},
   "source": [
    "#### Distribution of new variable AIrport"
   ]
  },
  {
   "cell_type": "code",
   "execution_count": 26,
   "metadata": {},
   "outputs": [
    {
     "data": {
      "text/plain": [
       "NOT           1430596\n",
       "La Guardia      29379\n",
       "JFK              4266\n",
       "Newark             48\n",
       "Name: Airport, dtype: int64"
      ]
     },
     "execution_count": 26,
     "metadata": {},
     "output_type": "execute_result"
    }
   ],
   "source": [
    "d['Airport'].value_counts()"
   ]
  },
  {
   "cell_type": "markdown",
   "metadata": {},
   "source": [
    "### Determining if a trip originates or terminates in an airport.\n",
    "\n",
    "As explained in the distance_lat_long and get_airport functions, we consider trips that are within 2 kilometers (1.24 miles) apart from each airport. We assign the closest airport to such trips.\n",
    "\n",
    "We observe that following this criterion, 29379 + 4266 + 48= 33693 (2.3 %) trips are airport related."
   ]
  },
  {
   "cell_type": "markdown",
   "metadata": {},
   "source": [
    "#### Compute mean on airport related trips"
   ]
  },
  {
   "cell_type": "code",
   "execution_count": 27,
   "metadata": {},
   "outputs": [
    {
     "data": {
      "text/plain": [
       "19.165900335381245"
      ]
     },
     "execution_count": 27,
     "metadata": {},
     "output_type": "execute_result"
    }
   ],
   "source": [
    "d[d['Airport']!= 'NOT']['Fare_amount'].mean()"
   ]
  },
  {
   "cell_type": "markdown",
   "metadata": {},
   "source": [
    "#### Compute mean on non-airport related trips"
   ]
  },
  {
   "cell_type": "code",
   "execution_count": 28,
   "metadata": {},
   "outputs": [
    {
     "data": {
      "text/plain": [
       "11.621906722792524"
      ]
     },
     "execution_count": 28,
     "metadata": {},
     "output_type": "execute_result"
    }
   ],
   "source": [
    "d[d['Airport']=='NOT']['Fare_amount'].mean()"
   ]
  },
  {
   "cell_type": "markdown",
   "metadata": {},
   "source": [
    "Let us test if they are statistically significant different. I will perform a two-sided test for the null hypothesis that 2 independent samples have identical average (expected) values. "
   ]
  },
  {
   "cell_type": "code",
   "execution_count": 29,
   "metadata": {},
   "outputs": [
    {
     "data": {
      "text/plain": [
       "Ttest_indResult(statistic=-165.44981874619316, pvalue=0.0)"
      ]
     },
     "execution_count": 29,
     "metadata": {},
     "output_type": "execute_result"
    }
   ],
   "source": [
    "scipy.stats.ttest_ind(d[d['Airport']=='NOT']['Fare_amount'],d[d['Airport']!= 'NOT']['Fare_amount'])"
   ]
  },
  {
   "cell_type": "markdown",
   "metadata": {},
   "source": [
    "We observe that the p-value=0.0, so we can reject the null hypothesis, i.e, that both distributions have the same mean. Thus, we can safely argue that airport related trips are more expensive than regular trips. This is somehow intuitive since these trips are likely to be longer."
   ]
  },
  {
   "cell_type": "markdown",
   "metadata": {},
   "source": [
    "#### Let's check if the number of passengers are statistically different in the two samples (airport vs non-airport trips)"
   ]
  },
  {
   "cell_type": "code",
   "execution_count": 30,
   "metadata": {},
   "outputs": [
    {
     "data": {
      "text/plain": [
       "1.3827798058943994"
      ]
     },
     "execution_count": 30,
     "metadata": {},
     "output_type": "execute_result"
    }
   ],
   "source": [
    "d[d['Airport']!= 'NOT']['Passenger_count'].mean()"
   ]
  },
  {
   "cell_type": "code",
   "execution_count": 31,
   "metadata": {},
   "outputs": [
    {
     "data": {
      "text/plain": [
       "1.3692789578609195"
      ]
     },
     "execution_count": 31,
     "metadata": {},
     "output_type": "execute_result"
    }
   ],
   "source": [
    "d[d['Airport']=='NOT']['Passenger_count'].mean()"
   ]
  },
  {
   "cell_type": "code",
   "execution_count": 32,
   "metadata": {},
   "outputs": [
    {
     "data": {
      "text/plain": [
       "Ttest_indResult(statistic=-2.3584557424391495, pvalue=0.01835127851763203)"
      ]
     },
     "execution_count": 32,
     "metadata": {},
     "output_type": "execute_result"
    }
   ],
   "source": [
    "scipy.stats.ttest_ind(d[d['Airport']=='NOT']['Passenger_count'],d[d['Airport']!= 'NOT']['Passenger_count'])"
   ]
  },
  {
   "cell_type": "markdown",
   "metadata": {},
   "source": [
    "We cannot reject the null hypothesis. There does not seem to be differences in the number of passengers for the two types of trips."
   ]
  },
  {
   "cell_type": "code",
   "execution_count": 33,
   "metadata": {},
   "outputs": [
    {
     "name": "stderr",
     "output_type": "stream",
     "text": [
      "/home/nestorghh/anaconda3/lib/python3.7/site-packages/ipykernel_launcher.py:1: SettingWithCopyWarning: \n",
      "A value is trying to be set on a copy of a slice from a DataFrame.\n",
      "Try using .loc[row_indexer,col_indexer] = value instead\n",
      "\n",
      "See the caveats in the documentation: http://pandas.pydata.org/pandas-docs/stable/indexing.html#indexing-view-versus-copy\n",
      "  \"\"\"Entry point for launching an IPython kernel.\n",
      "/home/nestorghh/anaconda3/lib/python3.7/site-packages/pandas/core/indexing.py:362: SettingWithCopyWarning: \n",
      "A value is trying to be set on a copy of a slice from a DataFrame.\n",
      "Try using .loc[row_indexer,col_indexer] = value instead\n",
      "\n",
      "See the caveats in the documentation: http://pandas.pydata.org/pandas-docs/stable/indexing.html#indexing-view-versus-copy\n",
      "  self.obj[key] = _infer_fill_value(value)\n",
      "/home/nestorghh/anaconda3/lib/python3.7/site-packages/pandas/core/indexing.py:543: SettingWithCopyWarning: \n",
      "A value is trying to be set on a copy of a slice from a DataFrame.\n",
      "Try using .loc[row_indexer,col_indexer] = value instead\n",
      "\n",
      "See the caveats in the documentation: http://pandas.pydata.org/pandas-docs/stable/indexing.html#indexing-view-versus-copy\n",
      "  self.obj[item] = s\n"
     ]
    }
   ],
   "source": [
    "d['lpep_pickup_datetime'] = pd.to_datetime(d.lpep_pickup_datetime) # convert to datetime object\n",
    "d.loc[:, 'weekday'] = d['lpep_pickup_datetime'].dt.dayofweek\n",
    "\n"
   ]
  },
  {
   "cell_type": "code",
   "execution_count": 34,
   "metadata": {},
   "outputs": [
    {
     "data": {
      "text/html": [
       "<div>\n",
       "<style scoped>\n",
       "    .dataframe tbody tr th:only-of-type {\n",
       "        vertical-align: middle;\n",
       "    }\n",
       "\n",
       "    .dataframe tbody tr th {\n",
       "        vertical-align: top;\n",
       "    }\n",
       "\n",
       "    .dataframe thead th {\n",
       "        text-align: right;\n",
       "    }\n",
       "</style>\n",
       "<table border=\"1\" class=\"dataframe\">\n",
       "  <thead>\n",
       "    <tr style=\"text-align: right;\">\n",
       "      <th></th>\n",
       "      <th>Airport</th>\n",
       "      <th>weekday</th>\n",
       "      <th>Fare_amount</th>\n",
       "    </tr>\n",
       "  </thead>\n",
       "  <tbody>\n",
       "    <tr>\n",
       "      <th>0</th>\n",
       "      <td>JFK</td>\n",
       "      <td>0</td>\n",
       "      <td>28.803119</td>\n",
       "    </tr>\n",
       "    <tr>\n",
       "      <th>1</th>\n",
       "      <td>JFK</td>\n",
       "      <td>1</td>\n",
       "      <td>28.023485</td>\n",
       "    </tr>\n",
       "    <tr>\n",
       "      <th>2</th>\n",
       "      <td>JFK</td>\n",
       "      <td>2</td>\n",
       "      <td>28.322021</td>\n",
       "    </tr>\n",
       "    <tr>\n",
       "      <th>3</th>\n",
       "      <td>JFK</td>\n",
       "      <td>3</td>\n",
       "      <td>28.544160</td>\n",
       "    </tr>\n",
       "    <tr>\n",
       "      <th>4</th>\n",
       "      <td>JFK</td>\n",
       "      <td>4</td>\n",
       "      <td>28.222973</td>\n",
       "    </tr>\n",
       "  </tbody>\n",
       "</table>\n",
       "</div>"
      ],
      "text/plain": [
       "  Airport  weekday  Fare_amount\n",
       "0     JFK        0    28.803119\n",
       "1     JFK        1    28.023485\n",
       "2     JFK        2    28.322021\n",
       "3     JFK        3    28.544160\n",
       "4     JFK        4    28.222973"
      ]
     },
     "execution_count": 34,
     "metadata": {},
     "output_type": "execute_result"
    }
   ],
   "source": [
    "#d_airport[d_airport['Fare_amount']<0]\n",
    "\n",
    "grouped_df = d[d['Airport']!='NOT'].groupby(['Airport','weekday'])['Fare_amount'].aggregate(np.mean).reset_index() \n",
    "\n",
    "grouped_df.head()\n"
   ]
  },
  {
   "cell_type": "code",
   "execution_count": 35,
   "metadata": {},
   "outputs": [
    {
     "data": {
      "image/png": "[encoded data removed]",
      "text/plain": [
       "<Figure size 432x288 with 1 Axes>"
      ]
     },
     "metadata": {
      "needs_background": "light"
     },
     "output_type": "display_data"
    }
   ],
   "source": [
    "sns.pointplot(grouped_df.weekday.values, grouped_df.Fare_amount.values, grouped_df.Airport.values, alpha=0.8)\n",
    "plt.ylabel('Fare mean (USD)')\n",
    "plt.xlabel('Weekday')\n",
    "plt.xticks(rotation='horizontal')\n",
    "plt.show()\n"
   ]
  },
  {
   "cell_type": "markdown",
   "metadata": {},
   "source": [
    "We observe that trips originated or terminated in Newark are more expensive across the week than trips to/from La Guardia and JKF. We also notice that the fare amount for JFK trips are higher than La Guardia's. "
   ]
  },
  {
   "cell_type": "code",
   "execution_count": 36,
   "metadata": {},
   "outputs": [],
   "source": [
    "d_airport = d[d['Airport']!= 'NOT']\n"
   ]
  },
  {
   "cell_type": "code",
   "execution_count": 37,
   "metadata": {},
   "outputs": [
    {
     "name": "stderr",
     "output_type": "stream",
     "text": [
      "/home/nestorghh/anaconda3/lib/python3.7/site-packages/scipy/stats/stats.py:1713: FutureWarning: Using a non-tuple sequence for multidimensional indexing is deprecated; use `arr[tuple(seq)]` instead of `arr[seq]`. In the future this will be interpreted as an array index, `arr[np.array(seq)]`, which will result either in an error or a different result.\n",
      "  return np.add.reduce(sorted[indexer] * weights, axis=axis) / sumval\n"
     ]
    },
    {
     "data": {
      "text/plain": [
       "Text(0,0.5,'Density')"
      ]
     },
     "execution_count": 37,
     "metadata": {},
     "output_type": "execute_result"
    },
    {
     "data": {
      "image/png": "[encoded data removed]",
      "text/plain": [
       "<Figure size 432x288 with 1 Axes>"
      ]
     },
     "metadata": {
      "needs_background": "light"
     },
     "output_type": "display_data"
    }
   ],
   "source": [
    "airports=['JFK', 'La Guardia', 'Newark']\n",
    "\n",
    "for a in airports:\n",
    "    subset = d_airport[d_airport['Airport'] == a]\n",
    "    \n",
    "    # Draw the density plot\n",
    "    sns.distplot(subset['Fare_amount'], hist = False, kde = True,\n",
    "                 kde_kws = {'linewidth': 3},\n",
    "                 label = a)\n",
    "    \n",
    "# Plot formatting\n",
    "plt.legend(prop={'size': 16}, title = 'Airport')\n",
    "plt.title('Density Plot per Airport')\n",
    "plt.xlabel('Fare amount (USD)')\n",
    "plt.ylabel('Density')\n"
   ]
  },
  {
   "cell_type": "code",
   "execution_count": 39,
   "metadata": {},
   "outputs": [
    {
     "data": {
      "text/plain": [
       "21886      -3.0\n",
       "26918      -2.5\n",
       "26967      -2.5\n",
       "39638      -5.5\n",
       "90915     -45.0\n",
       "475801     -4.5\n",
       "511511     -2.5\n",
       "735453     -4.5\n",
       "746643     -5.5\n",
       "1152808    -2.5\n",
       "1166636    -4.0\n",
       "1207979    -2.5\n",
       "Name: Fare_amount, dtype: float64"
      ]
     },
     "execution_count": 39,
     "metadata": {},
     "output_type": "execute_result"
    }
   ],
   "source": [
    "d_airport[d_airport['Fare_amount']<0]['Fare_amount'] #c"
   ]
  },
  {
   "cell_type": "markdown",
   "metadata": {},
   "source": [
    "We note that there are 12 instances that contain a negative fare amount. However, we observe that the three airports show different fare_amount distributions. "
   ]
  },
  {
   "cell_type": "markdown",
   "metadata": {},
   "source": [
    "## Question 4\n",
    "\n",
    "Build a derived variable for tip as a percentage of the total fare.\n",
    "\n",
    "Build a predictive model for tip as a percentage of the total fare. Use as much of the data as you like (or all of it). Provide an estimate of performance using an appropriate sample, and show your work."
   ]
  },
  {
   "cell_type": "code",
   "execution_count": 40,
   "metadata": {},
   "outputs": [
    {
     "name": "stderr",
     "output_type": "stream",
     "text": [
      "/home/nestorghh/anaconda3/lib/python3.7/site-packages/ipykernel_launcher.py:1: SettingWithCopyWarning: \n",
      "A value is trying to be set on a copy of a slice from a DataFrame.\n",
      "Try using .loc[row_indexer,col_indexer] = value instead\n",
      "\n",
      "See the caveats in the documentation: http://pandas.pydata.org/pandas-docs/stable/indexing.html#indexing-view-versus-copy\n",
      "  \"\"\"Entry point for launching an IPython kernel.\n"
     ]
    }
   ],
   "source": [
    "# create the new variable tip_percentage\n",
    "d['tip_percentage'] = d['Tip_amount']/d['Total_amount']"
   ]
  },
  {
   "cell_type": "code",
   "execution_count": 41,
   "metadata": {},
   "outputs": [
    {
     "data": {
      "text/html": [
       "<div>\n",
       "<style scoped>\n",
       "    .dataframe tbody tr th:only-of-type {\n",
       "        vertical-align: middle;\n",
       "    }\n",
       "\n",
       "    .dataframe tbody tr th {\n",
       "        vertical-align: top;\n",
       "    }\n",
       "\n",
       "    .dataframe thead th {\n",
       "        text-align: right;\n",
       "    }\n",
       "</style>\n",
       "<table border=\"1\" class=\"dataframe\">\n",
       "  <thead>\n",
       "    <tr style=\"text-align: right;\">\n",
       "      <th></th>\n",
       "      <th>VendorID</th>\n",
       "      <th>lpep_pickup_datetime</th>\n",
       "      <th>Lpep_dropoff_datetime</th>\n",
       "      <th>Store_and_fwd_flag</th>\n",
       "      <th>RateCodeID</th>\n",
       "      <th>Pickup_longitude</th>\n",
       "      <th>Pickup_latitude</th>\n",
       "      <th>Dropoff_longitude</th>\n",
       "      <th>Dropoff_latitude</th>\n",
       "      <th>Passenger_count</th>\n",
       "      <th>...</th>\n",
       "      <th>Total_amount</th>\n",
       "      <th>Payment_type</th>\n",
       "      <th>Trip_type</th>\n",
       "      <th>pickup</th>\n",
       "      <th>pickup_hour</th>\n",
       "      <th>dropoff</th>\n",
       "      <th>dropoff_hour</th>\n",
       "      <th>Airport</th>\n",
       "      <th>weekday</th>\n",
       "      <th>tip_percentage</th>\n",
       "    </tr>\n",
       "  </thead>\n",
       "  <tbody>\n",
       "    <tr>\n",
       "      <th>0</th>\n",
       "      <td>2</td>\n",
       "      <td>2015-09-01 00:02:34</td>\n",
       "      <td>2015-09-01 00:02:38</td>\n",
       "      <td>N</td>\n",
       "      <td>5</td>\n",
       "      <td>-73.979485</td>\n",
       "      <td>40.684956</td>\n",
       "      <td>-73.979431</td>\n",
       "      <td>40.685020</td>\n",
       "      <td>1</td>\n",
       "      <td>...</td>\n",
       "      <td>9.75</td>\n",
       "      <td>1</td>\n",
       "      <td>2.0</td>\n",
       "      <td>2015-09-01 00:02:34</td>\n",
       "      <td>0</td>\n",
       "      <td>2015-09-01 00:02:38</td>\n",
       "      <td>0</td>\n",
       "      <td>NOT</td>\n",
       "      <td>1</td>\n",
       "      <td>0.200000</td>\n",
       "    </tr>\n",
       "    <tr>\n",
       "      <th>1</th>\n",
       "      <td>2</td>\n",
       "      <td>2015-09-01 00:04:20</td>\n",
       "      <td>2015-09-01 00:04:24</td>\n",
       "      <td>N</td>\n",
       "      <td>5</td>\n",
       "      <td>-74.010796</td>\n",
       "      <td>40.912216</td>\n",
       "      <td>-74.010780</td>\n",
       "      <td>40.912212</td>\n",
       "      <td>1</td>\n",
       "      <td>...</td>\n",
       "      <td>45.00</td>\n",
       "      <td>1</td>\n",
       "      <td>2.0</td>\n",
       "      <td>2015-09-01 00:04:20</td>\n",
       "      <td>0</td>\n",
       "      <td>2015-09-01 00:04:24</td>\n",
       "      <td>0</td>\n",
       "      <td>NOT</td>\n",
       "      <td>1</td>\n",
       "      <td>0.000000</td>\n",
       "    </tr>\n",
       "    <tr>\n",
       "      <th>2</th>\n",
       "      <td>2</td>\n",
       "      <td>2015-09-01 00:01:50</td>\n",
       "      <td>2015-09-01 00:04:24</td>\n",
       "      <td>N</td>\n",
       "      <td>1</td>\n",
       "      <td>-73.921410</td>\n",
       "      <td>40.766708</td>\n",
       "      <td>-73.914413</td>\n",
       "      <td>40.764687</td>\n",
       "      <td>1</td>\n",
       "      <td>...</td>\n",
       "      <td>5.80</td>\n",
       "      <td>1</td>\n",
       "      <td>1.0</td>\n",
       "      <td>2015-09-01 00:01:50</td>\n",
       "      <td>0</td>\n",
       "      <td>2015-09-01 00:04:24</td>\n",
       "      <td>0</td>\n",
       "      <td>NOT</td>\n",
       "      <td>1</td>\n",
       "      <td>0.086207</td>\n",
       "    </tr>\n",
       "    <tr>\n",
       "      <th>3</th>\n",
       "      <td>2</td>\n",
       "      <td>2015-09-01 00:02:36</td>\n",
       "      <td>2015-09-01 00:06:42</td>\n",
       "      <td>N</td>\n",
       "      <td>1</td>\n",
       "      <td>-73.921387</td>\n",
       "      <td>40.766678</td>\n",
       "      <td>-73.931427</td>\n",
       "      <td>40.771584</td>\n",
       "      <td>1</td>\n",
       "      <td>...</td>\n",
       "      <td>6.30</td>\n",
       "      <td>2</td>\n",
       "      <td>1.0</td>\n",
       "      <td>2015-09-01 00:02:36</td>\n",
       "      <td>0</td>\n",
       "      <td>2015-09-01 00:06:42</td>\n",
       "      <td>0</td>\n",
       "      <td>NOT</td>\n",
       "      <td>1</td>\n",
       "      <td>0.000000</td>\n",
       "    </tr>\n",
       "    <tr>\n",
       "      <th>4</th>\n",
       "      <td>2</td>\n",
       "      <td>2015-09-01 00:00:14</td>\n",
       "      <td>2015-09-01 00:04:20</td>\n",
       "      <td>N</td>\n",
       "      <td>1</td>\n",
       "      <td>-73.955482</td>\n",
       "      <td>40.714046</td>\n",
       "      <td>-73.944412</td>\n",
       "      <td>40.714729</td>\n",
       "      <td>1</td>\n",
       "      <td>...</td>\n",
       "      <td>6.30</td>\n",
       "      <td>2</td>\n",
       "      <td>1.0</td>\n",
       "      <td>2015-09-01 00:00:14</td>\n",
       "      <td>0</td>\n",
       "      <td>2015-09-01 00:04:20</td>\n",
       "      <td>0</td>\n",
       "      <td>NOT</td>\n",
       "      <td>1</td>\n",
       "      <td>0.000000</td>\n",
       "    </tr>\n",
       "  </tbody>\n",
       "</table>\n",
       "<p>5 rows × 28 columns</p>\n",
       "</div>"
      ],
      "text/plain": [
       "   VendorID lpep_pickup_datetime Lpep_dropoff_datetime Store_and_fwd_flag  \\\n",
       "0         2  2015-09-01 00:02:34   2015-09-01 00:02:38                  N   \n",
       "1         2  2015-09-01 00:04:20   2015-09-01 00:04:24                  N   \n",
       "2         2  2015-09-01 00:01:50   2015-09-01 00:04:24                  N   \n",
       "3         2  2015-09-01 00:02:36   2015-09-01 00:06:42                  N   \n",
       "4         2  2015-09-01 00:00:14   2015-09-01 00:04:20                  N   \n",
       "\n",
       "   RateCodeID  Pickup_longitude  Pickup_latitude  Dropoff_longitude  \\\n",
       "0           5        -73.979485        40.684956         -73.979431   \n",
       "1           5        -74.010796        40.912216         -74.010780   \n",
       "2           1        -73.921410        40.766708         -73.914413   \n",
       "3           1        -73.921387        40.766678         -73.931427   \n",
       "4           1        -73.955482        40.714046         -73.944412   \n",
       "\n",
       "   Dropoff_latitude  Passenger_count       ...        Total_amount  \\\n",
       "0         40.685020                1       ...                9.75   \n",
       "1         40.912212                1       ...               45.00   \n",
       "2         40.764687                1       ...                5.80   \n",
       "3         40.771584                1       ...                6.30   \n",
       "4         40.714729                1       ...                6.30   \n",
       "\n",
       "   Payment_type  Trip_type               pickup  pickup_hour  \\\n",
       "0             1         2.0 2015-09-01 00:02:34            0   \n",
       "1             1         2.0 2015-09-01 00:04:20            0   \n",
       "2             1         1.0 2015-09-01 00:01:50            0   \n",
       "3             2         1.0 2015-09-01 00:02:36            0   \n",
       "4             2         1.0 2015-09-01 00:00:14            0   \n",
       "\n",
       "              dropoff  dropoff_hour  Airport  weekday  tip_percentage  \n",
       "0 2015-09-01 00:02:38             0      NOT        1        0.200000  \n",
       "1 2015-09-01 00:04:24             0      NOT        1        0.000000  \n",
       "2 2015-09-01 00:04:24             0      NOT        1        0.086207  \n",
       "3 2015-09-01 00:06:42             0      NOT        1        0.000000  \n",
       "4 2015-09-01 00:04:20             0      NOT        1        0.000000  \n",
       "\n",
       "[5 rows x 28 columns]"
      ]
     },
     "execution_count": 41,
     "metadata": {},
     "output_type": "execute_result"
    }
   ],
   "source": []
  },
  {
   "cell_type": "code",
   "execution_count": 42,
   "metadata": {},
   "outputs": [
    {
     "data": {
      "text/plain": [
       "count    1.460212e+06\n",
       "mean     6.618702e-02\n",
       "std      8.871513e-02\n",
       "min      0.000000e+00\n",
       "25%      0.000000e+00\n",
       "50%      0.000000e+00\n",
       "75%      1.666667e-01\n",
       "max      1.000000e+00\n",
       "Name: tip_percentage, dtype: float64"
      ]
     },
     "execution_count": 42,
     "metadata": {},
     "output_type": "execute_result"
    }
   ],
   "source": [
    "d['tip_percentage'].describe()"
   ]
  },
  {
   "cell_type": "code",
   "execution_count": 44,
   "metadata": {},
   "outputs": [
    {
     "data": {
      "text/plain": [
       "2    772188\n",
       "1    682350\n",
       "3      5379\n",
       "4      4301\n",
       "5        71\n",
       "Name: Payment_type, dtype: int64"
      ]
     },
     "execution_count": 44,
     "metadata": {},
     "output_type": "execute_result"
    }
   ],
   "source": [
    "d['Payment_type'].value_counts() # check distribution by payment_type"
   ]
  },
  {
   "cell_type": "code",
   "execution_count": 47,
   "metadata": {},
   "outputs": [
    {
     "data": {
      "text/html": [
       "<div>\n",
       "<style scoped>\n",
       "    .dataframe tbody tr th:only-of-type {\n",
       "        vertical-align: middle;\n",
       "    }\n",
       "\n",
       "    .dataframe tbody tr th {\n",
       "        vertical-align: top;\n",
       "    }\n",
       "\n",
       "    .dataframe thead th {\n",
       "        text-align: right;\n",
       "    }\n",
       "</style>\n",
       "<table border=\"1\" class=\"dataframe\">\n",
       "  <thead>\n",
       "    <tr style=\"text-align: right;\">\n",
       "      <th></th>\n",
       "      <th>Payment_type</th>\n",
       "      <th>tip_percentage</th>\n",
       "    </tr>\n",
       "  </thead>\n",
       "  <tbody>\n",
       "    <tr>\n",
       "      <th>0</th>\n",
       "      <td>1</td>\n",
       "      <td>0.141686</td>\n",
       "    </tr>\n",
       "    <tr>\n",
       "      <th>1</th>\n",
       "      <td>2</td>\n",
       "      <td>0.000001</td>\n",
       "    </tr>\n",
       "    <tr>\n",
       "      <th>2</th>\n",
       "      <td>3</td>\n",
       "      <td>0.002101</td>\n",
       "    </tr>\n",
       "    <tr>\n",
       "      <th>3</th>\n",
       "      <td>4</td>\n",
       "      <td>0.000278</td>\n",
       "    </tr>\n",
       "    <tr>\n",
       "      <th>4</th>\n",
       "      <td>5</td>\n",
       "      <td>0.000000</td>\n",
       "    </tr>\n",
       "  </tbody>\n",
       "</table>\n",
       "</div>"
      ],
      "text/plain": [
       "   Payment_type  tip_percentage\n",
       "0             1        0.141686\n",
       "1             2        0.000001\n",
       "2             3        0.002101\n",
       "3             4        0.000278\n",
       "4             5        0.000000"
      ]
     },
     "execution_count": 47,
     "metadata": {},
     "output_type": "execute_result"
    }
   ],
   "source": [
    "# compute tip_percentage mean by payment_type\n",
    "grouped_df = d.groupby(['Payment_type'])['tip_percentage'].aggregate(np.mean).reset_index()\n",
    "grouped_df"
   ]
  },
  {
   "cell_type": "markdown",
   "metadata": {},
   "source": [
    "According to the variable description (http://www.nyc.gov/html/tlc/downloads/pdf/data_dictionary_trip_records_green.pdf), cash tips (2) are not included, 3 means not charge, 4 stands for trips in dispute,and 5 is unknown. Given this, I'll only consider trips that were paid using credit cards. "
   ]
  },
  {
   "cell_type": "code",
   "execution_count": 50,
   "metadata": {},
   "outputs": [
    {
     "data": {
      "text/plain": [
       "1     1428970\n",
       "5       32215\n",
       "2        2040\n",
       "3         611\n",
       "4         411\n",
       "6          36\n",
       "99          6\n",
       "Name: RateCodeID, dtype: int64"
      ]
     },
     "execution_count": 50,
     "metadata": {},
     "output_type": "execute_result"
    }
   ],
   "source": [
    "d['RateCodeID'].value_counts() # check distribution by RateCodeID"
   ]
  },
  {
   "cell_type": "code",
   "execution_count": 49,
   "metadata": {},
   "outputs": [
    {
     "data": {
      "text/html": [
       "<div>\n",
       "<style scoped>\n",
       "    .dataframe tbody tr th:only-of-type {\n",
       "        vertical-align: middle;\n",
       "    }\n",
       "\n",
       "    .dataframe tbody tr th {\n",
       "        vertical-align: top;\n",
       "    }\n",
       "\n",
       "    .dataframe thead th {\n",
       "        text-align: right;\n",
       "    }\n",
       "</style>\n",
       "<table border=\"1\" class=\"dataframe\">\n",
       "  <thead>\n",
       "    <tr style=\"text-align: right;\">\n",
       "      <th></th>\n",
       "      <th>VendorID</th>\n",
       "      <th>lpep_pickup_datetime</th>\n",
       "      <th>Lpep_dropoff_datetime</th>\n",
       "      <th>Store_and_fwd_flag</th>\n",
       "      <th>RateCodeID</th>\n",
       "      <th>Pickup_longitude</th>\n",
       "      <th>Pickup_latitude</th>\n",
       "      <th>Dropoff_longitude</th>\n",
       "      <th>Dropoff_latitude</th>\n",
       "      <th>Passenger_count</th>\n",
       "      <th>...</th>\n",
       "      <th>Total_amount</th>\n",
       "      <th>Payment_type</th>\n",
       "      <th>Trip_type</th>\n",
       "      <th>pickup</th>\n",
       "      <th>pickup_hour</th>\n",
       "      <th>dropoff</th>\n",
       "      <th>dropoff_hour</th>\n",
       "      <th>Airport</th>\n",
       "      <th>weekday</th>\n",
       "      <th>tip_percentage</th>\n",
       "    </tr>\n",
       "  </thead>\n",
       "  <tbody>\n",
       "    <tr>\n",
       "      <th>15736</th>\n",
       "      <td>1</td>\n",
       "      <td>2015-09-01 12:20:32</td>\n",
       "      <td>2015-09-01 12:21:10</td>\n",
       "      <td>N</td>\n",
       "      <td>99</td>\n",
       "      <td>-73.906456</td>\n",
       "      <td>40.871605</td>\n",
       "      <td>-73.906464</td>\n",
       "      <td>40.871605</td>\n",
       "      <td>1</td>\n",
       "      <td>...</td>\n",
       "      <td>0.00</td>\n",
       "      <td>2</td>\n",
       "      <td>1.0</td>\n",
       "      <td>2015-09-01 12:20:32</td>\n",
       "      <td>12</td>\n",
       "      <td>2015-09-01 12:21:10</td>\n",
       "      <td>12</td>\n",
       "      <td>NOT</td>\n",
       "      <td>1</td>\n",
       "      <td>NaN</td>\n",
       "    </tr>\n",
       "    <tr>\n",
       "      <th>658365</th>\n",
       "      <td>1</td>\n",
       "      <td>2015-09-13 21:30:27</td>\n",
       "      <td>2015-09-13 21:30:27</td>\n",
       "      <td>N</td>\n",
       "      <td>99</td>\n",
       "      <td>-73.950455</td>\n",
       "      <td>40.670223</td>\n",
       "      <td>0.000000</td>\n",
       "      <td>0.000000</td>\n",
       "      <td>1</td>\n",
       "      <td>...</td>\n",
       "      <td>0.00</td>\n",
       "      <td>2</td>\n",
       "      <td>1.0</td>\n",
       "      <td>2015-09-13 21:30:27</td>\n",
       "      <td>21</td>\n",
       "      <td>2015-09-13 21:30:27</td>\n",
       "      <td>21</td>\n",
       "      <td>NOT</td>\n",
       "      <td>6</td>\n",
       "      <td>NaN</td>\n",
       "    </tr>\n",
       "    <tr>\n",
       "      <th>984680</th>\n",
       "      <td>1</td>\n",
       "      <td>2015-09-20 05:49:23</td>\n",
       "      <td>2015-09-20 09:49:23</td>\n",
       "      <td>Y</td>\n",
       "      <td>99</td>\n",
       "      <td>-73.932220</td>\n",
       "      <td>40.800476</td>\n",
       "      <td>0.000000</td>\n",
       "      <td>0.000000</td>\n",
       "      <td>0</td>\n",
       "      <td>...</td>\n",
       "      <td>17.30</td>\n",
       "      <td>1</td>\n",
       "      <td>NaN</td>\n",
       "      <td>2015-09-20 05:49:23</td>\n",
       "      <td>5</td>\n",
       "      <td>2015-09-20 09:49:23</td>\n",
       "      <td>9</td>\n",
       "      <td>NOT</td>\n",
       "      <td>6</td>\n",
       "      <td>0.0</td>\n",
       "    </tr>\n",
       "    <tr>\n",
       "      <th>985599</th>\n",
       "      <td>1</td>\n",
       "      <td>2015-09-20 06:27:40</td>\n",
       "      <td>2015-09-20 10:27:40</td>\n",
       "      <td>Y</td>\n",
       "      <td>99</td>\n",
       "      <td>-73.899170</td>\n",
       "      <td>40.746098</td>\n",
       "      <td>0.000000</td>\n",
       "      <td>0.000000</td>\n",
       "      <td>0</td>\n",
       "      <td>...</td>\n",
       "      <td>12.35</td>\n",
       "      <td>1</td>\n",
       "      <td>NaN</td>\n",
       "      <td>2015-09-20 06:27:40</td>\n",
       "      <td>6</td>\n",
       "      <td>2015-09-20 10:27:40</td>\n",
       "      <td>10</td>\n",
       "      <td>NOT</td>\n",
       "      <td>6</td>\n",
       "      <td>0.0</td>\n",
       "    </tr>\n",
       "    <tr>\n",
       "      <th>985620</th>\n",
       "      <td>1</td>\n",
       "      <td>2015-09-20 06:22:12</td>\n",
       "      <td>2015-09-20 10:22:12</td>\n",
       "      <td>Y</td>\n",
       "      <td>99</td>\n",
       "      <td>-73.957703</td>\n",
       "      <td>40.717789</td>\n",
       "      <td>0.000000</td>\n",
       "      <td>0.000000</td>\n",
       "      <td>0</td>\n",
       "      <td>...</td>\n",
       "      <td>23.15</td>\n",
       "      <td>1</td>\n",
       "      <td>NaN</td>\n",
       "      <td>2015-09-20 06:22:12</td>\n",
       "      <td>6</td>\n",
       "      <td>2015-09-20 10:22:12</td>\n",
       "      <td>10</td>\n",
       "      <td>NOT</td>\n",
       "      <td>6</td>\n",
       "      <td>0.0</td>\n",
       "    </tr>\n",
       "    <tr>\n",
       "      <th>1070054</th>\n",
       "      <td>1</td>\n",
       "      <td>2015-09-22 06:43:33</td>\n",
       "      <td>2015-09-22 10:43:33</td>\n",
       "      <td>Y</td>\n",
       "      <td>99</td>\n",
       "      <td>-73.928520</td>\n",
       "      <td>40.692528</td>\n",
       "      <td>0.000000</td>\n",
       "      <td>0.000000</td>\n",
       "      <td>0</td>\n",
       "      <td>...</td>\n",
       "      <td>20.30</td>\n",
       "      <td>3</td>\n",
       "      <td>NaN</td>\n",
       "      <td>2015-09-22 06:43:33</td>\n",
       "      <td>6</td>\n",
       "      <td>2015-09-22 10:43:33</td>\n",
       "      <td>10</td>\n",
       "      <td>NOT</td>\n",
       "      <td>1</td>\n",
       "      <td>0.0</td>\n",
       "    </tr>\n",
       "  </tbody>\n",
       "</table>\n",
       "<p>6 rows × 28 columns</p>\n",
       "</div>"
      ],
      "text/plain": [
       "         VendorID lpep_pickup_datetime Lpep_dropoff_datetime  \\\n",
       "15736           1  2015-09-01 12:20:32   2015-09-01 12:21:10   \n",
       "658365          1  2015-09-13 21:30:27   2015-09-13 21:30:27   \n",
       "984680          1  2015-09-20 05:49:23   2015-09-20 09:49:23   \n",
       "985599          1  2015-09-20 06:27:40   2015-09-20 10:27:40   \n",
       "985620          1  2015-09-20 06:22:12   2015-09-20 10:22:12   \n",
       "1070054         1  2015-09-22 06:43:33   2015-09-22 10:43:33   \n",
       "\n",
       "        Store_and_fwd_flag  RateCodeID  Pickup_longitude  Pickup_latitude  \\\n",
       "15736                    N          99        -73.906456        40.871605   \n",
       "658365                   N          99        -73.950455        40.670223   \n",
       "984680                   Y          99        -73.932220        40.800476   \n",
       "985599                   Y          99        -73.899170        40.746098   \n",
       "985620                   Y          99        -73.957703        40.717789   \n",
       "1070054                  Y          99        -73.928520        40.692528   \n",
       "\n",
       "         Dropoff_longitude  Dropoff_latitude  Passenger_count       ...        \\\n",
       "15736           -73.906464         40.871605                1       ...         \n",
       "658365            0.000000          0.000000                1       ...         \n",
       "984680            0.000000          0.000000                0       ...         \n",
       "985599            0.000000          0.000000                0       ...         \n",
       "985620            0.000000          0.000000                0       ...         \n",
       "1070054           0.000000          0.000000                0       ...         \n",
       "\n",
       "         Total_amount  Payment_type  Trip_type               pickup  \\\n",
       "15736            0.00             2         1.0 2015-09-01 12:20:32   \n",
       "658365           0.00             2         1.0 2015-09-13 21:30:27   \n",
       "984680          17.30             1         NaN 2015-09-20 05:49:23   \n",
       "985599          12.35             1         NaN 2015-09-20 06:27:40   \n",
       "985620          23.15             1         NaN 2015-09-20 06:22:12   \n",
       "1070054         20.30             3         NaN 2015-09-22 06:43:33   \n",
       "\n",
       "         pickup_hour             dropoff  dropoff_hour  Airport  weekday  \\\n",
       "15736             12 2015-09-01 12:21:10            12      NOT        1   \n",
       "658365            21 2015-09-13 21:30:27            21      NOT        6   \n",
       "984680             5 2015-09-20 09:49:23             9      NOT        6   \n",
       "985599             6 2015-09-20 10:27:40            10      NOT        6   \n",
       "985620             6 2015-09-20 10:22:12            10      NOT        6   \n",
       "1070054            6 2015-09-22 10:43:33            10      NOT        1   \n",
       "\n",
       "         tip_percentage  \n",
       "15736               NaN  \n",
       "658365              NaN  \n",
       "984680              0.0  \n",
       "985599              0.0  \n",
       "985620              0.0  \n",
       "1070054             0.0  \n",
       "\n",
       "[6 rows x 28 columns]"
      ]
     },
     "execution_count": 49,
     "metadata": {},
     "output_type": "execute_result"
    }
   ],
   "source": [
    "d[d['RateCodeID']==99] # see cases where ratecodeid is 99. We do not have this category in the variable \n",
    "#description. I will remove such records."
   ]
  },
  {
   "cell_type": "code",
   "execution_count": 52,
   "metadata": {},
   "outputs": [
    {
     "data": {
      "text/html": [
       "<div>\n",
       "<style scoped>\n",
       "    .dataframe tbody tr th:only-of-type {\n",
       "        vertical-align: middle;\n",
       "    }\n",
       "\n",
       "    .dataframe tbody tr th {\n",
       "        vertical-align: top;\n",
       "    }\n",
       "\n",
       "    .dataframe thead th {\n",
       "        text-align: right;\n",
       "    }\n",
       "</style>\n",
       "<table border=\"1\" class=\"dataframe\">\n",
       "  <thead>\n",
       "    <tr style=\"text-align: right;\">\n",
       "      <th></th>\n",
       "      <th>RateCodeID</th>\n",
       "      <th>tip_percentage</th>\n",
       "    </tr>\n",
       "  </thead>\n",
       "  <tbody>\n",
       "    <tr>\n",
       "      <th>0</th>\n",
       "      <td>1</td>\n",
       "      <td>0.067026</td>\n",
       "    </tr>\n",
       "    <tr>\n",
       "      <th>1</th>\n",
       "      <td>2</td>\n",
       "      <td>0.010176</td>\n",
       "    </tr>\n",
       "    <tr>\n",
       "      <th>2</th>\n",
       "      <td>3</td>\n",
       "      <td>0.019255</td>\n",
       "    </tr>\n",
       "    <tr>\n",
       "      <th>3</th>\n",
       "      <td>4</td>\n",
       "      <td>0.056382</td>\n",
       "    </tr>\n",
       "    <tr>\n",
       "      <th>4</th>\n",
       "      <td>5</td>\n",
       "      <td>0.029627</td>\n",
       "    </tr>\n",
       "    <tr>\n",
       "      <th>5</th>\n",
       "      <td>6</td>\n",
       "      <td>0.000000</td>\n",
       "    </tr>\n",
       "    <tr>\n",
       "      <th>6</th>\n",
       "      <td>99</td>\n",
       "      <td>0.000000</td>\n",
       "    </tr>\n",
       "  </tbody>\n",
       "</table>\n",
       "</div>"
      ],
      "text/plain": [
       "   RateCodeID  tip_percentage\n",
       "0           1        0.067026\n",
       "1           2        0.010176\n",
       "2           3        0.019255\n",
       "3           4        0.056382\n",
       "4           5        0.029627\n",
       "5           6        0.000000\n",
       "6          99        0.000000"
      ]
     },
     "execution_count": 52,
     "metadata": {},
     "output_type": "execute_result"
    }
   ],
   "source": [
    "# compute tip mean by ratecodeid\n",
    "grouped_df = d.groupby(['RateCodeID'])['tip_percentage'].aggregate(np.mean).reset_index()\n",
    "grouped_df"
   ]
  },
  {
   "cell_type": "code",
   "execution_count": 53,
   "metadata": {},
   "outputs": [
    {
     "data": {
      "text/html": [
       "<div>\n",
       "<style scoped>\n",
       "    .dataframe tbody tr th:only-of-type {\n",
       "        vertical-align: middle;\n",
       "    }\n",
       "\n",
       "    .dataframe tbody tr th {\n",
       "        vertical-align: top;\n",
       "    }\n",
       "\n",
       "    .dataframe thead th {\n",
       "        text-align: right;\n",
       "    }\n",
       "</style>\n",
       "<table border=\"1\" class=\"dataframe\">\n",
       "  <thead>\n",
       "    <tr style=\"text-align: right;\">\n",
       "      <th></th>\n",
       "      <th>Airport</th>\n",
       "      <th>tip_percentage</th>\n",
       "    </tr>\n",
       "  </thead>\n",
       "  <tbody>\n",
       "    <tr>\n",
       "      <th>0</th>\n",
       "      <td>JFK</td>\n",
       "      <td>0.082721</td>\n",
       "    </tr>\n",
       "    <tr>\n",
       "      <th>1</th>\n",
       "      <td>La Guardia</td>\n",
       "      <td>0.086131</td>\n",
       "    </tr>\n",
       "    <tr>\n",
       "      <th>2</th>\n",
       "      <td>NOT</td>\n",
       "      <td>0.065726</td>\n",
       "    </tr>\n",
       "    <tr>\n",
       "      <th>3</th>\n",
       "      <td>Newark</td>\n",
       "      <td>0.129221</td>\n",
       "    </tr>\n",
       "  </tbody>\n",
       "</table>\n",
       "</div>"
      ],
      "text/plain": [
       "      Airport  tip_percentage\n",
       "0         JFK        0.082721\n",
       "1  La Guardia        0.086131\n",
       "2         NOT        0.065726\n",
       "3      Newark        0.129221"
      ]
     },
     "execution_count": 53,
     "metadata": {},
     "output_type": "execute_result"
    }
   ],
   "source": [
    "# compute tip mean by airport variable.\n",
    "grouped_df = d.groupby(['Airport'])['tip_percentage'].aggregate(np.mean).reset_index()\n",
    "grouped_df"
   ]
  },
  {
   "cell_type": "markdown",
   "metadata": {},
   "source": [
    "Trips from/to JFK and La Guardia show a higher tip percentage compared to non-airport and Newark trips."
   ]
  },
  {
   "cell_type": "code",
   "execution_count": 72,
   "metadata": {},
   "outputs": [
    {
     "data": {
      "text/plain": [
       "VendorID                 False\n",
       "lpep_pickup_datetime     False\n",
       "Lpep_dropoff_datetime    False\n",
       "Store_and_fwd_flag       False\n",
       "RateCodeID               False\n",
       "Pickup_longitude         False\n",
       "Pickup_latitude          False\n",
       "Dropoff_longitude        False\n",
       "Dropoff_latitude         False\n",
       "Passenger_count          False\n",
       "Trip_distance            False\n",
       "Fare_amount              False\n",
       "Extra                    False\n",
       "MTA_tax                  False\n",
       "Tip_amount               False\n",
       "Tolls_amount             False\n",
       "Ehail_fee                 True\n",
       "improvement_surcharge    False\n",
       "Total_amount             False\n",
       "Payment_type             False\n",
       "Trip_type                 True\n",
       "pickup                   False\n",
       "pickup_hour              False\n",
       "dropoff                  False\n",
       "dropoff_hour             False\n",
       "Airport                  False\n",
       "weekday                  False\n",
       "tip_percentage            True\n",
       "dtype: bool"
      ]
     },
     "execution_count": 72,
     "metadata": {},
     "output_type": "execute_result"
    }
   ],
   "source": [
    "# See which columns contain Null values\n",
    "d.isna().any()"
   ]
  },
  {
   "cell_type": "code",
   "execution_count": 73,
   "metadata": {},
   "outputs": [
    {
     "data": {
      "text/plain": [
       "(1464289, 28)"
      ]
     },
     "execution_count": 73,
     "metadata": {},
     "output_type": "execute_result"
    }
   ],
   "source": [
    "d[d['Ehail_fee'].isnull()].shape "
   ]
  },
  {
   "cell_type": "markdown",
   "metadata": {},
   "source": [
    "This variable contains lots of null values and will be discarded in the predictive model."
   ]
  },
  {
   "cell_type": "code",
   "execution_count": 74,
   "metadata": {},
   "outputs": [
    {
     "data": {
      "text/plain": [
       "(4077, 28)"
      ]
     },
     "execution_count": 74,
     "metadata": {},
     "output_type": "execute_result"
    }
   ],
   "source": [
    "d[d['tip_percentage'].isnull()].shape"
   ]
  },
  {
   "cell_type": "markdown",
   "metadata": {},
   "source": [
    "4077 instances have NaN value as tip_percentage. "
   ]
  },
  {
   "cell_type": "code",
   "execution_count": 55,
   "metadata": {},
   "outputs": [
    {
     "data": {
      "text/plain": [
       "VendorID                 False\n",
       "lpep_pickup_datetime     False\n",
       "Lpep_dropoff_datetime    False\n",
       "Store_and_fwd_flag       False\n",
       "RateCodeID               False\n",
       "Pickup_longitude         False\n",
       "Pickup_latitude          False\n",
       "Dropoff_longitude        False\n",
       "Dropoff_latitude         False\n",
       "Passenger_count          False\n",
       "Trip_distance            False\n",
       "Fare_amount              False\n",
       "Extra                    False\n",
       "MTA_tax                  False\n",
       "Tip_amount               False\n",
       "Tolls_amount             False\n",
       "Ehail_fee                 True\n",
       "improvement_surcharge    False\n",
       "Total_amount             False\n",
       "Payment_type             False\n",
       "Trip_type                 True\n",
       "pickup                   False\n",
       "pickup_hour              False\n",
       "dropoff                  False\n",
       "dropoff_hour             False\n",
       "Airport                  False\n",
       "weekday                  False\n",
       "tip_percentage            True\n",
       "dtype: bool"
      ]
     },
     "execution_count": 55,
     "metadata": {},
     "output_type": "execute_result"
    }
   ],
   "source": [
    "d.isna().any()"
   ]
  },
  {
   "cell_type": "code",
   "execution_count": 82,
   "metadata": {},
   "outputs": [
    {
     "data": {
      "text/plain": [
       "2    3502\n",
       "1     320\n",
       "3     213\n",
       "4      40\n",
       "5       2\n",
       "Name: Payment_type, dtype: int64"
      ]
     },
     "execution_count": 82,
     "metadata": {},
     "output_type": "execute_result"
    }
   ],
   "source": [
    "d.loc[d['Total_amount']==0,['Payment_type','Total_amount']]['Payment_type'].value_counts()"
   ]
  },
  {
   "cell_type": "code",
   "execution_count": 83,
   "metadata": {},
   "outputs": [
    {
     "data": {
      "text/plain": [
       "5     3488\n",
       "1      566\n",
       "2       18\n",
       "99       2\n",
       "3        2\n",
       "4        1\n",
       "Name: RateCodeID, dtype: int64"
      ]
     },
     "execution_count": 83,
     "metadata": {},
     "output_type": "execute_result"
    }
   ],
   "source": [
    "d.loc[d['Total_amount']==0,['RateCodeID','Total_amount']]['RateCodeID'].value_counts()"
   ]
  },
  {
   "cell_type": "code",
   "execution_count": 96,
   "metadata": {},
   "outputs": [],
   "source": [
    "d = d.rename(columns={ d.columns[20]: \"Trip_type\" })# for some reason, pandas imported this wrong and was giving me key error.\n"
   ]
  },
  {
   "cell_type": "code",
   "execution_count": 101,
   "metadata": {},
   "outputs": [],
   "source": [
    "d = d[~d['Trip_type'].isnull()] # remove 4 rows that have null values for trip_type"
   ]
  },
  {
   "cell_type": "code",
   "execution_count": 102,
   "metadata": {},
   "outputs": [],
   "source": [
    "d['Trip_type']=d['Trip_type'].astype(int) # convert to integer"
   ]
  },
  {
   "cell_type": "code",
   "execution_count": 105,
   "metadata": {},
   "outputs": [
    {
     "data": {
      "text/html": [
       "<div>\n",
       "<style scoped>\n",
       "    .dataframe tbody tr th:only-of-type {\n",
       "        vertical-align: middle;\n",
       "    }\n",
       "\n",
       "    .dataframe tbody tr th {\n",
       "        vertical-align: top;\n",
       "    }\n",
       "\n",
       "    .dataframe thead th {\n",
       "        text-align: right;\n",
       "    }\n",
       "</style>\n",
       "<table border=\"1\" class=\"dataframe\">\n",
       "  <thead>\n",
       "    <tr style=\"text-align: right;\">\n",
       "      <th></th>\n",
       "      <th>Trip_type</th>\n",
       "      <th>tip_percentage</th>\n",
       "    </tr>\n",
       "  </thead>\n",
       "  <tbody>\n",
       "    <tr>\n",
       "      <th>0</th>\n",
       "      <td>1</td>\n",
       "      <td>0.066910</td>\n",
       "    </tr>\n",
       "    <tr>\n",
       "      <th>1</th>\n",
       "      <td>2</td>\n",
       "      <td>0.029668</td>\n",
       "    </tr>\n",
       "  </tbody>\n",
       "</table>\n",
       "</div>"
      ],
      "text/plain": [
       "   Trip_type  tip_percentage\n",
       "0          1        0.066910\n",
       "1          2        0.029668"
      ]
     },
     "execution_count": 105,
     "metadata": {},
     "output_type": "execute_result"
    }
   ],
   "source": [
    "# compute tip mean by Trip_type variable.\n",
    "grouped_df = d.groupby(['Trip_type'])['tip_percentage'].aggregate(np.mean).reset_index()\n",
    "grouped_df"
   ]
  },
  {
   "cell_type": "markdown",
   "metadata": {},
   "source": [
    "Street-hail trips show higher tip percentage compared to dispatch trips."
   ]
  },
  {
   "cell_type": "markdown",
   "metadata": {},
   "source": [
    "### Predictive Model\n",
    "\n",
    "#### Build a predictive model for tip as a percentage of the total fare. Use as much of the data as you like (or all of it). Provide an estimate of performance using an appropriate sample, and show your work."
   ]
  },
  {
   "cell_type": "code",
   "execution_count": 108,
   "metadata": {},
   "outputs": [],
   "source": [
    "dm = d[d['Payment_type']==1] # get trips paid using credit cards."
   ]
  },
  {
   "cell_type": "code",
   "execution_count": 109,
   "metadata": {},
   "outputs": [
    {
     "data": {
      "text/plain": [
       "(682347, 28)"
      ]
     },
     "execution_count": 109,
     "metadata": {},
     "output_type": "execute_result"
    }
   ],
   "source": [
    "dm.shape"
   ]
  },
  {
   "cell_type": "code",
   "execution_count": 110,
   "metadata": {},
   "outputs": [
    {
     "name": "stderr",
     "output_type": "stream",
     "text": [
      "/home/nestorghh/anaconda3/lib/python3.7/site-packages/pandas/core/frame.py:3697: SettingWithCopyWarning: \n",
      "A value is trying to be set on a copy of a slice from a DataFrame\n",
      "\n",
      "See the caveats in the documentation: http://pandas.pydata.org/pandas-docs/stable/indexing.html#indexing-view-versus-copy\n",
      "  errors=errors)\n"
     ]
    }
   ],
   "source": [
    "dm.drop(['Ehail_fee','RateCodeID','Extra'], axis=1, inplace=True)"
   ]
  },
  {
   "cell_type": "code",
   "execution_count": 112,
   "metadata": {},
   "outputs": [
    {
     "data": {
      "text/plain": [
       "Index(['VendorID', 'lpep_pickup_datetime', 'Lpep_dropoff_datetime',\n",
       "       'Store_and_fwd_flag', 'Pickup_longitude', 'Pickup_latitude',\n",
       "       'Dropoff_longitude', 'Dropoff_latitude', 'Passenger_count',\n",
       "       'Trip_distance', 'Fare_amount', 'MTA_tax', 'Tip_amount', 'Tolls_amount',\n",
       "       'improvement_surcharge', 'Total_amount', 'Payment_type', 'Trip_type',\n",
       "       'pickup', 'pickup_hour', 'dropoff', 'dropoff_hour', 'Airport',\n",
       "       'weekday', 'tip_percentage'],\n",
       "      dtype='object')"
      ]
     },
     "execution_count": 112,
     "metadata": {},
     "output_type": "execute_result"
    }
   ],
   "source": [
    "dm.columns"
   ]
  },
  {
   "cell_type": "markdown",
   "metadata": {},
   "source": [
    "#### Correlation Matrix"
   ]
  },
  {
   "cell_type": "code",
   "execution_count": 115,
   "metadata": {},
   "outputs": [
    {
     "data": {
      "image/png": "[encoded data removed]",
      "text/plain": [
       "<Figure size 1080x1080 with 2 Axes>"
      ]
     },
     "metadata": {},
     "output_type": "display_data"
    }
   ],
   "source": [
    "sns.set(style=\"white\")\n",
    "\n",
    "# Generate a large random dataset\n",
    "temp3 = dm.copy() # our dataframe\n",
    "\n",
    "# Compute the correlation matrix\n",
    "corr = temp3.corr() # corr calculation\n",
    "\n",
    "# Generate a mask for the upper triangle\n",
    "mask = np.zeros_like(corr, dtype=np.bool)\n",
    "mask[np.triu_indices_from(mask)] = True\n",
    "\n",
    "# Set up the matplotlib figure\n",
    "f, ax = plt.subplots(figsize=(15, 15))\n",
    "\n",
    "# Generate a custom diverging colormap\n",
    "cmap = sns.diverging_palette(110, 10, as_cmap=True)\n",
    "\n",
    "# Draw the heatmap with the mask and correct aspect ratio\n",
    "sns.heatmap(corr, mask=mask, cmap=cmap, vmax=.3, center=0,\n",
    "            square=True, linewidths=.5, cbar_kws={\"shrink\": .5})\n",
    "plt.show()"
   ]
  },
  {
   "cell_type": "code",
   "execution_count": 116,
   "metadata": {},
   "outputs": [
    {
     "data": {
      "text/html": [
       "<div>\n",
       "<style scoped>\n",
       "    .dataframe tbody tr th:only-of-type {\n",
       "        vertical-align: middle;\n",
       "    }\n",
       "\n",
       "    .dataframe tbody tr th {\n",
       "        vertical-align: top;\n",
       "    }\n",
       "\n",
       "    .dataframe thead th {\n",
       "        text-align: right;\n",
       "    }\n",
       "</style>\n",
       "<table border=\"1\" class=\"dataframe\">\n",
       "  <thead>\n",
       "    <tr style=\"text-align: right;\">\n",
       "      <th></th>\n",
       "      <th>VendorID</th>\n",
       "      <th>Pickup_longitude</th>\n",
       "      <th>Pickup_latitude</th>\n",
       "      <th>Dropoff_longitude</th>\n",
       "      <th>Dropoff_latitude</th>\n",
       "      <th>Passenger_count</th>\n",
       "      <th>Trip_distance</th>\n",
       "      <th>Fare_amount</th>\n",
       "      <th>MTA_tax</th>\n",
       "      <th>Tip_amount</th>\n",
       "      <th>Tolls_amount</th>\n",
       "      <th>improvement_surcharge</th>\n",
       "      <th>Total_amount</th>\n",
       "      <th>Payment_type</th>\n",
       "      <th>Trip_type</th>\n",
       "      <th>pickup_hour</th>\n",
       "      <th>dropoff_hour</th>\n",
       "      <th>weekday</th>\n",
       "      <th>tip_percentage</th>\n",
       "    </tr>\n",
       "  </thead>\n",
       "  <tbody>\n",
       "    <tr>\n",
       "      <th>VendorID</th>\n",
       "      <td>1.000000</td>\n",
       "      <td>-0.011752</td>\n",
       "      <td>0.014224</td>\n",
       "      <td>-0.009280</td>\n",
       "      <td>0.012737</td>\n",
       "      <td>0.091941</td>\n",
       "      <td>-0.007325</td>\n",
       "      <td>-0.002340</td>\n",
       "      <td>-0.026455</td>\n",
       "      <td>-0.023827</td>\n",
       "      <td>0.006692</td>\n",
       "      <td>-0.019908</td>\n",
       "      <td>-0.007398</td>\n",
       "      <td>NaN</td>\n",
       "      <td>0.026293</td>\n",
       "      <td>0.010869</td>\n",
       "      <td>0.008394</td>\n",
       "      <td>0.002587</td>\n",
       "      <td>-0.034993</td>\n",
       "    </tr>\n",
       "    <tr>\n",
       "      <th>Pickup_longitude</th>\n",
       "      <td>-0.011752</td>\n",
       "      <td>1.000000</td>\n",
       "      <td>-0.999229</td>\n",
       "      <td>0.259524</td>\n",
       "      <td>-0.257297</td>\n",
       "      <td>-0.008392</td>\n",
       "      <td>-0.031962</td>\n",
       "      <td>0.005178</td>\n",
       "      <td>-0.167347</td>\n",
       "      <td>0.000966</td>\n",
       "      <td>-0.004713</td>\n",
       "      <td>-0.158031</td>\n",
       "      <td>0.001836</td>\n",
       "      <td>NaN</td>\n",
       "      <td>0.144527</td>\n",
       "      <td>-0.006859</td>\n",
       "      <td>-0.006592</td>\n",
       "      <td>-0.004213</td>\n",
       "      <td>-0.010741</td>\n",
       "    </tr>\n",
       "    <tr>\n",
       "      <th>Pickup_latitude</th>\n",
       "      <td>0.014224</td>\n",
       "      <td>-0.999229</td>\n",
       "      <td>1.000000</td>\n",
       "      <td>-0.259012</td>\n",
       "      <td>0.258765</td>\n",
       "      <td>0.007185</td>\n",
       "      <td>0.031062</td>\n",
       "      <td>-0.006339</td>\n",
       "      <td>0.162864</td>\n",
       "      <td>-0.004302</td>\n",
       "      <td>0.006700</td>\n",
       "      <td>0.153705</td>\n",
       "      <td>-0.003613</td>\n",
       "      <td>NaN</td>\n",
       "      <td>-0.140043</td>\n",
       "      <td>0.006361</td>\n",
       "      <td>0.006364</td>\n",
       "      <td>0.001939</td>\n",
       "      <td>0.005448</td>\n",
       "    </tr>\n",
       "    <tr>\n",
       "      <th>Dropoff_longitude</th>\n",
       "      <td>-0.009280</td>\n",
       "      <td>0.259524</td>\n",
       "      <td>-0.259012</td>\n",
       "      <td>1.000000</td>\n",
       "      <td>-0.998073</td>\n",
       "      <td>-0.002823</td>\n",
       "      <td>-0.003360</td>\n",
       "      <td>-0.005292</td>\n",
       "      <td>-0.038973</td>\n",
       "      <td>-0.004956</td>\n",
       "      <td>0.000210</td>\n",
       "      <td>-0.037985</td>\n",
       "      <td>-0.006176</td>\n",
       "      <td>NaN</td>\n",
       "      <td>0.000313</td>\n",
       "      <td>-0.002329</td>\n",
       "      <td>-0.002245</td>\n",
       "      <td>-0.000856</td>\n",
       "      <td>-0.002863</td>\n",
       "    </tr>\n",
       "    <tr>\n",
       "      <th>Dropoff_latitude</th>\n",
       "      <td>0.012737</td>\n",
       "      <td>-0.257297</td>\n",
       "      <td>0.258765</td>\n",
       "      <td>-0.998073</td>\n",
       "      <td>1.000000</td>\n",
       "      <td>0.001156</td>\n",
       "      <td>0.001144</td>\n",
       "      <td>0.002558</td>\n",
       "      <td>0.031317</td>\n",
       "      <td>-0.000449</td>\n",
       "      <td>0.003443</td>\n",
       "      <td>0.030599</td>\n",
       "      <td>0.002623</td>\n",
       "      <td>NaN</td>\n",
       "      <td>0.007318</td>\n",
       "      <td>0.001009</td>\n",
       "      <td>0.001338</td>\n",
       "      <td>-0.002612</td>\n",
       "      <td>-0.006019</td>\n",
       "    </tr>\n",
       "    <tr>\n",
       "      <th>Passenger_count</th>\n",
       "      <td>0.091941</td>\n",
       "      <td>-0.008392</td>\n",
       "      <td>0.007185</td>\n",
       "      <td>-0.002823</td>\n",
       "      <td>0.001156</td>\n",
       "      <td>1.000000</td>\n",
       "      <td>0.010174</td>\n",
       "      <td>0.008124</td>\n",
       "      <td>0.012322</td>\n",
       "      <td>0.010027</td>\n",
       "      <td>0.006365</td>\n",
       "      <td>0.012500</td>\n",
       "      <td>0.010753</td>\n",
       "      <td>NaN</td>\n",
       "      <td>-0.011429</td>\n",
       "      <td>0.010870</td>\n",
       "      <td>0.009347</td>\n",
       "      <td>0.015730</td>\n",
       "      <td>0.009612</td>\n",
       "    </tr>\n",
       "    <tr>\n",
       "      <th>Trip_distance</th>\n",
       "      <td>-0.007325</td>\n",
       "      <td>-0.031962</td>\n",
       "      <td>0.031062</td>\n",
       "      <td>-0.003360</td>\n",
       "      <td>0.001144</td>\n",
       "      <td>0.010174</td>\n",
       "      <td>1.000000</td>\n",
       "      <td>0.819521</td>\n",
       "      <td>0.084021</td>\n",
       "      <td>0.431921</td>\n",
       "      <td>0.233427</td>\n",
       "      <td>0.082831</td>\n",
       "      <td>0.817453</td>\n",
       "      <td>NaN</td>\n",
       "      <td>-0.081686</td>\n",
       "      <td>-0.046264</td>\n",
       "      <td>-0.054479</td>\n",
       "      <td>0.035445</td>\n",
       "      <td>-0.048016</td>\n",
       "    </tr>\n",
       "    <tr>\n",
       "      <th>Fare_amount</th>\n",
       "      <td>-0.002340</td>\n",
       "      <td>0.005178</td>\n",
       "      <td>-0.006339</td>\n",
       "      <td>-0.005292</td>\n",
       "      <td>0.002558</td>\n",
       "      <td>0.008124</td>\n",
       "      <td>0.819521</td>\n",
       "      <td>1.000000</td>\n",
       "      <td>-0.152214</td>\n",
       "      <td>0.453543</td>\n",
       "      <td>0.192615</td>\n",
       "      <td>-0.145975</td>\n",
       "      <td>0.967420</td>\n",
       "      <td>NaN</td>\n",
       "      <td>0.156295</td>\n",
       "      <td>-0.032739</td>\n",
       "      <td>-0.036325</td>\n",
       "      <td>0.017272</td>\n",
       "      <td>-0.081166</td>\n",
       "    </tr>\n",
       "    <tr>\n",
       "      <th>MTA_tax</th>\n",
       "      <td>-0.026455</td>\n",
       "      <td>-0.167347</td>\n",
       "      <td>0.162864</td>\n",
       "      <td>-0.038973</td>\n",
       "      <td>0.031317</td>\n",
       "      <td>0.012322</td>\n",
       "      <td>0.084021</td>\n",
       "      <td>-0.152214</td>\n",
       "      <td>1.000000</td>\n",
       "      <td>0.003871</td>\n",
       "      <td>-0.001897</td>\n",
       "      <td>0.966552</td>\n",
       "      <td>-0.112841</td>\n",
       "      <td>NaN</td>\n",
       "      <td>-0.974264</td>\n",
       "      <td>0.029660</td>\n",
       "      <td>0.028513</td>\n",
       "      <td>0.008809</td>\n",
       "      <td>0.103932</td>\n",
       "    </tr>\n",
       "    <tr>\n",
       "      <th>Tip_amount</th>\n",
       "      <td>-0.023827</td>\n",
       "      <td>0.000966</td>\n",
       "      <td>-0.004302</td>\n",
       "      <td>-0.004956</td>\n",
       "      <td>-0.000449</td>\n",
       "      <td>0.010027</td>\n",
       "      <td>0.431921</td>\n",
       "      <td>0.453543</td>\n",
       "      <td>0.003871</td>\n",
       "      <td>1.000000</td>\n",
       "      <td>0.163165</td>\n",
       "      <td>0.004477</td>\n",
       "      <td>0.649458</td>\n",
       "      <td>NaN</td>\n",
       "      <td>-0.002341</td>\n",
       "      <td>-0.004535</td>\n",
       "      <td>-0.005881</td>\n",
       "      <td>0.008277</td>\n",
       "      <td>0.609442</td>\n",
       "    </tr>\n",
       "    <tr>\n",
       "      <th>Tolls_amount</th>\n",
       "      <td>0.006692</td>\n",
       "      <td>-0.004713</td>\n",
       "      <td>0.006700</td>\n",
       "      <td>0.000210</td>\n",
       "      <td>0.003443</td>\n",
       "      <td>0.006365</td>\n",
       "      <td>0.233427</td>\n",
       "      <td>0.192615</td>\n",
       "      <td>-0.001897</td>\n",
       "      <td>0.163165</td>\n",
       "      <td>1.000000</td>\n",
       "      <td>0.002469</td>\n",
       "      <td>0.287264</td>\n",
       "      <td>NaN</td>\n",
       "      <td>-0.002196</td>\n",
       "      <td>-0.016439</td>\n",
       "      <td>-0.014678</td>\n",
       "      <td>-0.004880</td>\n",
       "      <td>-0.000867</td>\n",
       "    </tr>\n",
       "    <tr>\n",
       "      <th>improvement_surcharge</th>\n",
       "      <td>-0.019908</td>\n",
       "      <td>-0.158031</td>\n",
       "      <td>0.153705</td>\n",
       "      <td>-0.037985</td>\n",
       "      <td>0.030599</td>\n",
       "      <td>0.012500</td>\n",
       "      <td>0.082831</td>\n",
       "      <td>-0.145975</td>\n",
       "      <td>0.966552</td>\n",
       "      <td>0.004477</td>\n",
       "      <td>0.002469</td>\n",
       "      <td>1.000000</td>\n",
       "      <td>-0.107245</td>\n",
       "      <td>NaN</td>\n",
       "      <td>-0.960637</td>\n",
       "      <td>0.029028</td>\n",
       "      <td>0.027664</td>\n",
       "      <td>0.008048</td>\n",
       "      <td>0.099140</td>\n",
       "    </tr>\n",
       "    <tr>\n",
       "      <th>Total_amount</th>\n",
       "      <td>-0.007398</td>\n",
       "      <td>0.001836</td>\n",
       "      <td>-0.003613</td>\n",
       "      <td>-0.006176</td>\n",
       "      <td>0.002623</td>\n",
       "      <td>0.010753</td>\n",
       "      <td>0.817453</td>\n",
       "      <td>0.967420</td>\n",
       "      <td>-0.112841</td>\n",
       "      <td>0.649458</td>\n",
       "      <td>0.287264</td>\n",
       "      <td>-0.107245</td>\n",
       "      <td>1.000000</td>\n",
       "      <td>NaN</td>\n",
       "      <td>0.116568</td>\n",
       "      <td>-0.020071</td>\n",
       "      <td>-0.024036</td>\n",
       "      <td>0.011557</td>\n",
       "      <td>0.088837</td>\n",
       "    </tr>\n",
       "    <tr>\n",
       "      <th>Payment_type</th>\n",
       "      <td>NaN</td>\n",
       "      <td>NaN</td>\n",
       "      <td>NaN</td>\n",
       "      <td>NaN</td>\n",
       "      <td>NaN</td>\n",
       "      <td>NaN</td>\n",
       "      <td>NaN</td>\n",
       "      <td>NaN</td>\n",
       "      <td>NaN</td>\n",
       "      <td>NaN</td>\n",
       "      <td>NaN</td>\n",
       "      <td>NaN</td>\n",
       "      <td>NaN</td>\n",
       "      <td>NaN</td>\n",
       "      <td>NaN</td>\n",
       "      <td>NaN</td>\n",
       "      <td>NaN</td>\n",
       "      <td>NaN</td>\n",
       "      <td>NaN</td>\n",
       "    </tr>\n",
       "    <tr>\n",
       "      <th>Trip_type</th>\n",
       "      <td>0.026293</td>\n",
       "      <td>0.144527</td>\n",
       "      <td>-0.140043</td>\n",
       "      <td>0.000313</td>\n",
       "      <td>0.007318</td>\n",
       "      <td>-0.011429</td>\n",
       "      <td>-0.081686</td>\n",
       "      <td>0.156295</td>\n",
       "      <td>-0.974264</td>\n",
       "      <td>-0.002341</td>\n",
       "      <td>-0.002196</td>\n",
       "      <td>-0.960637</td>\n",
       "      <td>0.116568</td>\n",
       "      <td>NaN</td>\n",
       "      <td>1.000000</td>\n",
       "      <td>-0.030256</td>\n",
       "      <td>-0.029135</td>\n",
       "      <td>-0.008121</td>\n",
       "      <td>-0.102922</td>\n",
       "    </tr>\n",
       "    <tr>\n",
       "      <th>pickup_hour</th>\n",
       "      <td>0.010869</td>\n",
       "      <td>-0.006859</td>\n",
       "      <td>0.006361</td>\n",
       "      <td>-0.002329</td>\n",
       "      <td>0.001009</td>\n",
       "      <td>0.010870</td>\n",
       "      <td>-0.046264</td>\n",
       "      <td>-0.032739</td>\n",
       "      <td>0.029660</td>\n",
       "      <td>-0.004535</td>\n",
       "      <td>-0.016439</td>\n",
       "      <td>0.029028</td>\n",
       "      <td>-0.020071</td>\n",
       "      <td>NaN</td>\n",
       "      <td>-0.030256</td>\n",
       "      <td>1.000000</td>\n",
       "      <td>0.929013</td>\n",
       "      <td>-0.085228</td>\n",
       "      <td>0.014334</td>\n",
       "    </tr>\n",
       "    <tr>\n",
       "      <th>dropoff_hour</th>\n",
       "      <td>0.008394</td>\n",
       "      <td>-0.006592</td>\n",
       "      <td>0.006364</td>\n",
       "      <td>-0.002245</td>\n",
       "      <td>0.001338</td>\n",
       "      <td>0.009347</td>\n",
       "      <td>-0.054479</td>\n",
       "      <td>-0.036325</td>\n",
       "      <td>0.028513</td>\n",
       "      <td>-0.005881</td>\n",
       "      <td>-0.014678</td>\n",
       "      <td>0.027664</td>\n",
       "      <td>-0.024036</td>\n",
       "      <td>NaN</td>\n",
       "      <td>-0.029135</td>\n",
       "      <td>0.929013</td>\n",
       "      <td>1.000000</td>\n",
       "      <td>-0.092661</td>\n",
       "      <td>0.015523</td>\n",
       "    </tr>\n",
       "    <tr>\n",
       "      <th>weekday</th>\n",
       "      <td>0.002587</td>\n",
       "      <td>-0.004213</td>\n",
       "      <td>0.001939</td>\n",
       "      <td>-0.000856</td>\n",
       "      <td>-0.002612</td>\n",
       "      <td>0.015730</td>\n",
       "      <td>0.035445</td>\n",
       "      <td>0.017272</td>\n",
       "      <td>0.008809</td>\n",
       "      <td>0.008277</td>\n",
       "      <td>-0.004880</td>\n",
       "      <td>0.008048</td>\n",
       "      <td>0.011557</td>\n",
       "      <td>NaN</td>\n",
       "      <td>-0.008121</td>\n",
       "      <td>-0.085228</td>\n",
       "      <td>-0.092661</td>\n",
       "      <td>1.000000</td>\n",
       "      <td>0.010220</td>\n",
       "    </tr>\n",
       "    <tr>\n",
       "      <th>tip_percentage</th>\n",
       "      <td>-0.034993</td>\n",
       "      <td>-0.010741</td>\n",
       "      <td>0.005448</td>\n",
       "      <td>-0.002863</td>\n",
       "      <td>-0.006019</td>\n",
       "      <td>0.009612</td>\n",
       "      <td>-0.048016</td>\n",
       "      <td>-0.081166</td>\n",
       "      <td>0.103932</td>\n",
       "      <td>0.609442</td>\n",
       "      <td>-0.000867</td>\n",
       "      <td>0.099140</td>\n",
       "      <td>0.088837</td>\n",
       "      <td>NaN</td>\n",
       "      <td>-0.102922</td>\n",
       "      <td>0.014334</td>\n",
       "      <td>0.015523</td>\n",
       "      <td>0.010220</td>\n",
       "      <td>1.000000</td>\n",
       "    </tr>\n",
       "  </tbody>\n",
       "</table>\n",
       "</div>"
      ],
      "text/plain": [
       "                       VendorID  Pickup_longitude  Pickup_latitude  \\\n",
       "VendorID               1.000000         -0.011752         0.014224   \n",
       "Pickup_longitude      -0.011752          1.000000        -0.999229   \n",
       "Pickup_latitude        0.014224         -0.999229         1.000000   \n",
       "Dropoff_longitude     -0.009280          0.259524        -0.259012   \n",
       "Dropoff_latitude       0.012737         -0.257297         0.258765   \n",
       "Passenger_count        0.091941         -0.008392         0.007185   \n",
       "Trip_distance         -0.007325         -0.031962         0.031062   \n",
       "Fare_amount           -0.002340          0.005178        -0.006339   \n",
       "MTA_tax               -0.026455         -0.167347         0.162864   \n",
       "Tip_amount            -0.023827          0.000966        -0.004302   \n",
       "Tolls_amount           0.006692         -0.004713         0.006700   \n",
       "improvement_surcharge -0.019908         -0.158031         0.153705   \n",
       "Total_amount          -0.007398          0.001836        -0.003613   \n",
       "Payment_type                NaN               NaN              NaN   \n",
       "Trip_type              0.026293          0.144527        -0.140043   \n",
       "pickup_hour            0.010869         -0.006859         0.006361   \n",
       "dropoff_hour           0.008394         -0.006592         0.006364   \n",
       "weekday                0.002587         -0.004213         0.001939   \n",
       "tip_percentage        -0.034993         -0.010741         0.005448   \n",
       "\n",
       "                       Dropoff_longitude  Dropoff_latitude  Passenger_count  \\\n",
       "VendorID                       -0.009280          0.012737         0.091941   \n",
       "Pickup_longitude                0.259524         -0.257297        -0.008392   \n",
       "Pickup_latitude                -0.259012          0.258765         0.007185   \n",
       "Dropoff_longitude               1.000000         -0.998073        -0.002823   \n",
       "Dropoff_latitude               -0.998073          1.000000         0.001156   \n",
       "Passenger_count                -0.002823          0.001156         1.000000   \n",
       "Trip_distance                  -0.003360          0.001144         0.010174   \n",
       "Fare_amount                    -0.005292          0.002558         0.008124   \n",
       "MTA_tax                        -0.038973          0.031317         0.012322   \n",
       "Tip_amount                     -0.004956         -0.000449         0.010027   \n",
       "Tolls_amount                    0.000210          0.003443         0.006365   \n",
       "improvement_surcharge          -0.037985          0.030599         0.012500   \n",
       "Total_amount                   -0.006176          0.002623         0.010753   \n",
       "Payment_type                         NaN               NaN              NaN   \n",
       "Trip_type                       0.000313          0.007318        -0.011429   \n",
       "pickup_hour                    -0.002329          0.001009         0.010870   \n",
       "dropoff_hour                   -0.002245          0.001338         0.009347   \n",
       "weekday                        -0.000856         -0.002612         0.015730   \n",
       "tip_percentage                 -0.002863         -0.006019         0.009612   \n",
       "\n",
       "                       Trip_distance  Fare_amount   MTA_tax  Tip_amount  \\\n",
       "VendorID                   -0.007325    -0.002340 -0.026455   -0.023827   \n",
       "Pickup_longitude           -0.031962     0.005178 -0.167347    0.000966   \n",
       "Pickup_latitude             0.031062    -0.006339  0.162864   -0.004302   \n",
       "Dropoff_longitude          -0.003360    -0.005292 -0.038973   -0.004956   \n",
       "Dropoff_latitude            0.001144     0.002558  0.031317   -0.000449   \n",
       "Passenger_count             0.010174     0.008124  0.012322    0.010027   \n",
       "Trip_distance               1.000000     0.819521  0.084021    0.431921   \n",
       "Fare_amount                 0.819521     1.000000 -0.152214    0.453543   \n",
       "MTA_tax                     0.084021    -0.152214  1.000000    0.003871   \n",
       "Tip_amount                  0.431921     0.453543  0.003871    1.000000   \n",
       "Tolls_amount                0.233427     0.192615 -0.001897    0.163165   \n",
       "improvement_surcharge       0.082831    -0.145975  0.966552    0.004477   \n",
       "Total_amount                0.817453     0.967420 -0.112841    0.649458   \n",
       "Payment_type                     NaN          NaN       NaN         NaN   \n",
       "Trip_type                  -0.081686     0.156295 -0.974264   -0.002341   \n",
       "pickup_hour                -0.046264    -0.032739  0.029660   -0.004535   \n",
       "dropoff_hour               -0.054479    -0.036325  0.028513   -0.005881   \n",
       "weekday                     0.035445     0.017272  0.008809    0.008277   \n",
       "tip_percentage             -0.048016    -0.081166  0.103932    0.609442   \n",
       "\n",
       "                       Tolls_amount  improvement_surcharge  Total_amount  \\\n",
       "VendorID                   0.006692              -0.019908     -0.007398   \n",
       "Pickup_longitude          -0.004713              -0.158031      0.001836   \n",
       "Pickup_latitude            0.006700               0.153705     -0.003613   \n",
       "Dropoff_longitude          0.000210              -0.037985     -0.006176   \n",
       "Dropoff_latitude           0.003443               0.030599      0.002623   \n",
       "Passenger_count            0.006365               0.012500      0.010753   \n",
       "Trip_distance              0.233427               0.082831      0.817453   \n",
       "Fare_amount                0.192615              -0.145975      0.967420   \n",
       "MTA_tax                   -0.001897               0.966552     -0.112841   \n",
       "Tip_amount                 0.163165               0.004477      0.649458   \n",
       "Tolls_amount               1.000000               0.002469      0.287264   \n",
       "improvement_surcharge      0.002469               1.000000     -0.107245   \n",
       "Total_amount               0.287264              -0.107245      1.000000   \n",
       "Payment_type                    NaN                    NaN           NaN   \n",
       "Trip_type                 -0.002196              -0.960637      0.116568   \n",
       "pickup_hour               -0.016439               0.029028     -0.020071   \n",
       "dropoff_hour              -0.014678               0.027664     -0.024036   \n",
       "weekday                   -0.004880               0.008048      0.011557   \n",
       "tip_percentage            -0.000867               0.099140      0.088837   \n",
       "\n",
       "                       Payment_type  Trip_type  pickup_hour  dropoff_hour  \\\n",
       "VendorID                        NaN   0.026293     0.010869      0.008394   \n",
       "Pickup_longitude                NaN   0.144527    -0.006859     -0.006592   \n",
       "Pickup_latitude                 NaN  -0.140043     0.006361      0.006364   \n",
       "Dropoff_longitude               NaN   0.000313    -0.002329     -0.002245   \n",
       "Dropoff_latitude                NaN   0.007318     0.001009      0.001338   \n",
       "Passenger_count                 NaN  -0.011429     0.010870      0.009347   \n",
       "Trip_distance                   NaN  -0.081686    -0.046264     -0.054479   \n",
       "Fare_amount                     NaN   0.156295    -0.032739     -0.036325   \n",
       "MTA_tax                         NaN  -0.974264     0.029660      0.028513   \n",
       "Tip_amount                      NaN  -0.002341    -0.004535     -0.005881   \n",
       "Tolls_amount                    NaN  -0.002196    -0.016439     -0.014678   \n",
       "improvement_surcharge           NaN  -0.960637     0.029028      0.027664   \n",
       "Total_amount                    NaN   0.116568    -0.020071     -0.024036   \n",
       "Payment_type                    NaN        NaN          NaN           NaN   \n",
       "Trip_type                       NaN   1.000000    -0.030256     -0.029135   \n",
       "pickup_hour                     NaN  -0.030256     1.000000      0.929013   \n",
       "dropoff_hour                    NaN  -0.029135     0.929013      1.000000   \n",
       "weekday                         NaN  -0.008121    -0.085228     -0.092661   \n",
       "tip_percentage                  NaN  -0.102922     0.014334      0.015523   \n",
       "\n",
       "                        weekday  tip_percentage  \n",
       "VendorID               0.002587       -0.034993  \n",
       "Pickup_longitude      -0.004213       -0.010741  \n",
       "Pickup_latitude        0.001939        0.005448  \n",
       "Dropoff_longitude     -0.000856       -0.002863  \n",
       "Dropoff_latitude      -0.002612       -0.006019  \n",
       "Passenger_count        0.015730        0.009612  \n",
       "Trip_distance          0.035445       -0.048016  \n",
       "Fare_amount            0.017272       -0.081166  \n",
       "MTA_tax                0.008809        0.103932  \n",
       "Tip_amount             0.008277        0.609442  \n",
       "Tolls_amount          -0.004880       -0.000867  \n",
       "improvement_surcharge  0.008048        0.099140  \n",
       "Total_amount           0.011557        0.088837  \n",
       "Payment_type                NaN             NaN  \n",
       "Trip_type             -0.008121       -0.102922  \n",
       "pickup_hour           -0.085228        0.014334  \n",
       "dropoff_hour          -0.092661        0.015523  \n",
       "weekday                1.000000        0.010220  \n",
       "tip_percentage         0.010220        1.000000  "
      ]
     },
     "execution_count": 116,
     "metadata": {},
     "output_type": "execute_result"
    }
   ],
   "source": [
    "corr"
   ]
  },
  {
   "cell_type": "markdown",
   "metadata": {},
   "source": [
    "#### Split data set to do validation"
   ]
  },
  {
   "cell_type": "code",
   "execution_count": 120,
   "metadata": {},
   "outputs": [
    {
     "name": "stdout",
     "output_type": "stream",
     "text": [
      " X_train shape is :\n",
      "\n",
      "(545877, 25)\n",
      " X_test shape is :\n",
      "\n",
      "(136470, 25)\n"
     ]
    }
   ],
   "source": [
    "X = dm # covariates\n",
    "y = dm.tip_percentage # target variable\n",
    "\n",
    "X_train, X_test, y_train, y_test = train_test_split(X, y,test_size=0.2)\n",
    "\n",
    "print ( \" X_train shape is :\\n\")\n",
    "print (X_train.shape)\n",
    "print (\" X_test shape is :\\n\")\n",
    "print (X_test.shape)"
   ]
  },
  {
   "cell_type": "code",
   "execution_count": 121,
   "metadata": {},
   "outputs": [],
   "source": [
    "X_test = X_test.iloc[:, :-1] # exclude the target variable(tip_percentage) from our test data"
   ]
  },
  {
   "cell_type": "code",
   "execution_count": 122,
   "metadata": {},
   "outputs": [],
   "source": [
    "X_test.drop(['Tip_amount'], axis=1, inplace=True) # this variable is correlated to tip_percentage"
   ]
  },
  {
   "cell_type": "code",
   "execution_count": 128,
   "metadata": {},
   "outputs": [
    {
     "data": {
      "text/html": [
       "<div>\n",
       "<style scoped>\n",
       "    .dataframe tbody tr th:only-of-type {\n",
       "        vertical-align: middle;\n",
       "    }\n",
       "\n",
       "    .dataframe tbody tr th {\n",
       "        vertical-align: top;\n",
       "    }\n",
       "\n",
       "    .dataframe thead th {\n",
       "        text-align: right;\n",
       "    }\n",
       "</style>\n",
       "<table border=\"1\" class=\"dataframe\">\n",
       "  <thead>\n",
       "    <tr style=\"text-align: right;\">\n",
       "      <th></th>\n",
       "      <th>col_name</th>\n",
       "      <th>null_count</th>\n",
       "    </tr>\n",
       "  </thead>\n",
       "  <tbody>\n",
       "    <tr>\n",
       "      <th>0</th>\n",
       "      <td>VendorID</td>\n",
       "      <td>0</td>\n",
       "    </tr>\n",
       "    <tr>\n",
       "      <th>1</th>\n",
       "      <td>lpep_pickup_datetime</td>\n",
       "      <td>0</td>\n",
       "    </tr>\n",
       "    <tr>\n",
       "      <th>2</th>\n",
       "      <td>Lpep_dropoff_datetime</td>\n",
       "      <td>0</td>\n",
       "    </tr>\n",
       "    <tr>\n",
       "      <th>3</th>\n",
       "      <td>Store_and_fwd_flag</td>\n",
       "      <td>0</td>\n",
       "    </tr>\n",
       "    <tr>\n",
       "      <th>4</th>\n",
       "      <td>Pickup_longitude</td>\n",
       "      <td>0</td>\n",
       "    </tr>\n",
       "    <tr>\n",
       "      <th>5</th>\n",
       "      <td>Pickup_latitude</td>\n",
       "      <td>0</td>\n",
       "    </tr>\n",
       "    <tr>\n",
       "      <th>6</th>\n",
       "      <td>Dropoff_longitude</td>\n",
       "      <td>0</td>\n",
       "    </tr>\n",
       "    <tr>\n",
       "      <th>7</th>\n",
       "      <td>Dropoff_latitude</td>\n",
       "      <td>0</td>\n",
       "    </tr>\n",
       "    <tr>\n",
       "      <th>8</th>\n",
       "      <td>Passenger_count</td>\n",
       "      <td>0</td>\n",
       "    </tr>\n",
       "    <tr>\n",
       "      <th>9</th>\n",
       "      <td>Trip_distance</td>\n",
       "      <td>0</td>\n",
       "    </tr>\n",
       "    <tr>\n",
       "      <th>10</th>\n",
       "      <td>Fare_amount</td>\n",
       "      <td>0</td>\n",
       "    </tr>\n",
       "    <tr>\n",
       "      <th>11</th>\n",
       "      <td>MTA_tax</td>\n",
       "      <td>0</td>\n",
       "    </tr>\n",
       "    <tr>\n",
       "      <th>12</th>\n",
       "      <td>Tip_amount</td>\n",
       "      <td>0</td>\n",
       "    </tr>\n",
       "    <tr>\n",
       "      <th>13</th>\n",
       "      <td>Tolls_amount</td>\n",
       "      <td>0</td>\n",
       "    </tr>\n",
       "    <tr>\n",
       "      <th>14</th>\n",
       "      <td>improvement_surcharge</td>\n",
       "      <td>0</td>\n",
       "    </tr>\n",
       "    <tr>\n",
       "      <th>15</th>\n",
       "      <td>Total_amount</td>\n",
       "      <td>0</td>\n",
       "    </tr>\n",
       "    <tr>\n",
       "      <th>16</th>\n",
       "      <td>Payment_type</td>\n",
       "      <td>0</td>\n",
       "    </tr>\n",
       "    <tr>\n",
       "      <th>17</th>\n",
       "      <td>Trip_type</td>\n",
       "      <td>0</td>\n",
       "    </tr>\n",
       "    <tr>\n",
       "      <th>18</th>\n",
       "      <td>pickup</td>\n",
       "      <td>0</td>\n",
       "    </tr>\n",
       "    <tr>\n",
       "      <th>19</th>\n",
       "      <td>pickup_hour</td>\n",
       "      <td>0</td>\n",
       "    </tr>\n",
       "    <tr>\n",
       "      <th>20</th>\n",
       "      <td>dropoff</td>\n",
       "      <td>0</td>\n",
       "    </tr>\n",
       "    <tr>\n",
       "      <th>21</th>\n",
       "      <td>dropoff_hour</td>\n",
       "      <td>0</td>\n",
       "    </tr>\n",
       "    <tr>\n",
       "      <th>22</th>\n",
       "      <td>Airport</td>\n",
       "      <td>0</td>\n",
       "    </tr>\n",
       "    <tr>\n",
       "      <th>23</th>\n",
       "      <td>weekday</td>\n",
       "      <td>0</td>\n",
       "    </tr>\n",
       "    <tr>\n",
       "      <th>24</th>\n",
       "      <td>tip_percentage</td>\n",
       "      <td>0</td>\n",
       "    </tr>\n",
       "  </tbody>\n",
       "</table>\n",
       "</div>"
      ],
      "text/plain": [
       "                 col_name  null_count\n",
       "0                VendorID           0\n",
       "1    lpep_pickup_datetime           0\n",
       "2   Lpep_dropoff_datetime           0\n",
       "3      Store_and_fwd_flag           0\n",
       "4        Pickup_longitude           0\n",
       "5         Pickup_latitude           0\n",
       "6       Dropoff_longitude           0\n",
       "7        Dropoff_latitude           0\n",
       "8         Passenger_count           0\n",
       "9           Trip_distance           0\n",
       "10            Fare_amount           0\n",
       "11                MTA_tax           0\n",
       "12             Tip_amount           0\n",
       "13           Tolls_amount           0\n",
       "14  improvement_surcharge           0\n",
       "15           Total_amount           0\n",
       "16           Payment_type           0\n",
       "17              Trip_type           0\n",
       "18                 pickup           0\n",
       "19            pickup_hour           0\n",
       "20                dropoff           0\n",
       "21           dropoff_hour           0\n",
       "22                Airport           0\n",
       "23                weekday           0\n",
       "24         tip_percentage           0"
      ]
     },
     "execution_count": 128,
     "metadata": {},
     "output_type": "execute_result"
    }
   ],
   "source": [
    "null_count_df = X_train.isnull().sum(axis=0).reset_index() # test set\n",
    "null_count_df.columns = ['col_name', 'null_count']\n",
    "null_count_df"
   ]
  },
  {
   "cell_type": "code",
   "execution_count": 127,
   "metadata": {},
   "outputs": [],
   "source": [
    "X_train=X_train[~X_train['tip_percentage'].isnull()]"
   ]
  },
  {
   "cell_type": "markdown",
   "metadata": {},
   "source": [
    "#### Compute some variables."
   ]
  },
  {
   "cell_type": "code",
   "execution_count": 141,
   "metadata": {},
   "outputs": [
    {
     "data": {
      "text/html": [
       "<div>\n",
       "<style scoped>\n",
       "    .dataframe tbody tr th:only-of-type {\n",
       "        vertical-align: middle;\n",
       "    }\n",
       "\n",
       "    .dataframe tbody tr th {\n",
       "        vertical-align: top;\n",
       "    }\n",
       "\n",
       "    .dataframe thead th {\n",
       "        text-align: right;\n",
       "    }\n",
       "</style>\n",
       "<table border=\"1\" class=\"dataframe\">\n",
       "  <thead>\n",
       "    <tr style=\"text-align: right;\">\n",
       "      <th></th>\n",
       "      <th>VendorID</th>\n",
       "      <th>lpep_pickup_datetime</th>\n",
       "      <th>Lpep_dropoff_datetime</th>\n",
       "      <th>Store_and_fwd_flag</th>\n",
       "      <th>Pickup_longitude</th>\n",
       "      <th>Pickup_latitude</th>\n",
       "      <th>Dropoff_longitude</th>\n",
       "      <th>Dropoff_latitude</th>\n",
       "      <th>Passenger_count</th>\n",
       "      <th>Trip_distance</th>\n",
       "      <th>...</th>\n",
       "      <th>pickup_hour</th>\n",
       "      <th>dropoff</th>\n",
       "      <th>dropoff_hour</th>\n",
       "      <th>Airport</th>\n",
       "      <th>weekday</th>\n",
       "      <th>tip_percentage</th>\n",
       "      <th>pickup_day</th>\n",
       "      <th>pickup_month</th>\n",
       "      <th>week_of_year</th>\n",
       "      <th>day_of_week</th>\n",
       "    </tr>\n",
       "  </thead>\n",
       "  <tbody>\n",
       "    <tr>\n",
       "      <th>301699</th>\n",
       "      <td>1</td>\n",
       "      <td>2015-09-07 00:49:43</td>\n",
       "      <td>2015-09-07 00:54:04</td>\n",
       "      <td>0</td>\n",
       "      <td>-73.956497</td>\n",
       "      <td>40.716961</td>\n",
       "      <td>-73.946335</td>\n",
       "      <td>40.724720</td>\n",
       "      <td>1</td>\n",
       "      <td>1.00</td>\n",
       "      <td>...</td>\n",
       "      <td>0</td>\n",
       "      <td>2015-09-07 00:54:04</td>\n",
       "      <td>0</td>\n",
       "      <td>NOT</td>\n",
       "      <td>0</td>\n",
       "      <td>0.150000</td>\n",
       "      <td>7</td>\n",
       "      <td>9</td>\n",
       "      <td>37</td>\n",
       "      <td>0</td>\n",
       "    </tr>\n",
       "    <tr>\n",
       "      <th>433403</th>\n",
       "      <td>2</td>\n",
       "      <td>2015-09-10 01:30:39</td>\n",
       "      <td>2015-09-10 01:55:58</td>\n",
       "      <td>0</td>\n",
       "      <td>-73.954811</td>\n",
       "      <td>40.718529</td>\n",
       "      <td>-73.966553</td>\n",
       "      <td>40.710800</td>\n",
       "      <td>1</td>\n",
       "      <td>5.62</td>\n",
       "      <td>...</td>\n",
       "      <td>1</td>\n",
       "      <td>2015-09-10 01:55:58</td>\n",
       "      <td>1</td>\n",
       "      <td>NOT</td>\n",
       "      <td>3</td>\n",
       "      <td>0.084034</td>\n",
       "      <td>10</td>\n",
       "      <td>9</td>\n",
       "      <td>37</td>\n",
       "      <td>3</td>\n",
       "    </tr>\n",
       "    <tr>\n",
       "      <th>1172370</th>\n",
       "      <td>2</td>\n",
       "      <td>2015-09-24 17:09:27</td>\n",
       "      <td>2015-09-24 17:24:48</td>\n",
       "      <td>0</td>\n",
       "      <td>-73.944283</td>\n",
       "      <td>40.819691</td>\n",
       "      <td>-73.955078</td>\n",
       "      <td>40.769947</td>\n",
       "      <td>1</td>\n",
       "      <td>5.30</td>\n",
       "      <td>...</td>\n",
       "      <td>17</td>\n",
       "      <td>2015-09-24 17:24:48</td>\n",
       "      <td>17</td>\n",
       "      <td>NOT</td>\n",
       "      <td>3</td>\n",
       "      <td>0.091743</td>\n",
       "      <td>24</td>\n",
       "      <td>9</td>\n",
       "      <td>39</td>\n",
       "      <td>3</td>\n",
       "    </tr>\n",
       "    <tr>\n",
       "      <th>1115539</th>\n",
       "      <td>2</td>\n",
       "      <td>2015-09-23 09:30:36</td>\n",
       "      <td>2015-09-23 09:39:40</td>\n",
       "      <td>0</td>\n",
       "      <td>-73.855415</td>\n",
       "      <td>40.839706</td>\n",
       "      <td>-73.850807</td>\n",
       "      <td>40.822289</td>\n",
       "      <td>1</td>\n",
       "      <td>1.58</td>\n",
       "      <td>...</td>\n",
       "      <td>9</td>\n",
       "      <td>2015-09-23 09:39:40</td>\n",
       "      <td>9</td>\n",
       "      <td>NOT</td>\n",
       "      <td>2</td>\n",
       "      <td>0.097087</td>\n",
       "      <td>23</td>\n",
       "      <td>9</td>\n",
       "      <td>39</td>\n",
       "      <td>2</td>\n",
       "    </tr>\n",
       "    <tr>\n",
       "      <th>908815</th>\n",
       "      <td>1</td>\n",
       "      <td>2015-09-19 02:01:12</td>\n",
       "      <td>2015-09-19 02:13:50</td>\n",
       "      <td>0</td>\n",
       "      <td>-73.965416</td>\n",
       "      <td>40.713612</td>\n",
       "      <td>-73.978539</td>\n",
       "      <td>40.685570</td>\n",
       "      <td>1</td>\n",
       "      <td>3.30</td>\n",
       "      <td>...</td>\n",
       "      <td>2</td>\n",
       "      <td>2015-09-19 02:13:50</td>\n",
       "      <td>2</td>\n",
       "      <td>NOT</td>\n",
       "      <td>5</td>\n",
       "      <td>0.166181</td>\n",
       "      <td>19</td>\n",
       "      <td>9</td>\n",
       "      <td>38</td>\n",
       "      <td>5</td>\n",
       "    </tr>\n",
       "  </tbody>\n",
       "</table>\n",
       "<p>5 rows × 29 columns</p>\n",
       "</div>"
      ],
      "text/plain": [
       "         VendorID lpep_pickup_datetime Lpep_dropoff_datetime  \\\n",
       "301699          1  2015-09-07 00:49:43   2015-09-07 00:54:04   \n",
       "433403          2  2015-09-10 01:30:39   2015-09-10 01:55:58   \n",
       "1172370         2  2015-09-24 17:09:27   2015-09-24 17:24:48   \n",
       "1115539         2  2015-09-23 09:30:36   2015-09-23 09:39:40   \n",
       "908815          1  2015-09-19 02:01:12   2015-09-19 02:13:50   \n",
       "\n",
       "         Store_and_fwd_flag  Pickup_longitude  Pickup_latitude  \\\n",
       "301699                    0        -73.956497        40.716961   \n",
       "433403                    0        -73.954811        40.718529   \n",
       "1172370                   0        -73.944283        40.819691   \n",
       "1115539                   0        -73.855415        40.839706   \n",
       "908815                    0        -73.965416        40.713612   \n",
       "\n",
       "         Dropoff_longitude  Dropoff_latitude  Passenger_count  Trip_distance  \\\n",
       "301699          -73.946335         40.724720                1           1.00   \n",
       "433403          -73.966553         40.710800                1           5.62   \n",
       "1172370         -73.955078         40.769947                1           5.30   \n",
       "1115539         -73.850807         40.822289                1           1.58   \n",
       "908815          -73.978539         40.685570                1           3.30   \n",
       "\n",
       "            ...       pickup_hour             dropoff  dropoff_hour  Airport  \\\n",
       "301699      ...                 0 2015-09-07 00:54:04             0      NOT   \n",
       "433403      ...                 1 2015-09-10 01:55:58             1      NOT   \n",
       "1172370     ...                17 2015-09-24 17:24:48            17      NOT   \n",
       "1115539     ...                 9 2015-09-23 09:39:40             9      NOT   \n",
       "908815      ...                 2 2015-09-19 02:13:50             2      NOT   \n",
       "\n",
       "         weekday  tip_percentage  pickup_day  pickup_month week_of_year  \\\n",
       "301699         0        0.150000           7             9           37   \n",
       "433403         3        0.084034          10             9           37   \n",
       "1172370        3        0.091743          24             9           39   \n",
       "1115539        2        0.097087          23             9           39   \n",
       "908815         5        0.166181          19             9           38   \n",
       "\n",
       "         day_of_week  \n",
       "301699             0  \n",
       "433403             3  \n",
       "1172370            3  \n",
       "1115539            2  \n",
       "908815             5  \n",
       "\n",
       "[5 rows x 29 columns]"
      ]
     },
     "execution_count": 141,
     "metadata": {},
     "output_type": "execute_result"
    }
   ],
   "source": [
    "X_train.head()"
   ]
  },
  {
   "cell_type": "code",
   "execution_count": 131,
   "metadata": {},
   "outputs": [],
   "source": [
    "X_train['pickup_day'] = X_train['lpep_pickup_datetime'].dt.day\n",
    "X_test['pickup_day'] = X_test['lpep_pickup_datetime'].dt.day"
   ]
  },
  {
   "cell_type": "code",
   "execution_count": 132,
   "metadata": {},
   "outputs": [],
   "source": [
    "X_train['pickup_month'] = X_train['lpep_pickup_datetime'].dt.month\n",
    "X_test['pickup_month'] = X_test['lpep_pickup_datetime'].dt.month"
   ]
  },
  {
   "cell_type": "code",
   "execution_count": 133,
   "metadata": {},
   "outputs": [],
   "source": [
    "X_train['pickup_hour'] = X_train['lpep_pickup_datetime'].dt.hour\n",
    "X_test['pickup_hour'] = X_test['lpep_pickup_datetime'].dt.hour"
   ]
  },
  {
   "cell_type": "code",
   "execution_count": 134,
   "metadata": {},
   "outputs": [],
   "source": [
    "X_train[\"week_of_year\"] = X_train[\"lpep_pickup_datetime\"].dt.weekofyear\n",
    "X_test[\"week_of_year\"] = X_test[\"lpep_pickup_datetime\"].dt.weekofyear"
   ]
  },
  {
   "cell_type": "code",
   "execution_count": 135,
   "metadata": {},
   "outputs": [],
   "source": [
    "X_train[\"day_of_week\"] = X_train[\"lpep_pickup_datetime\"].dt.weekday\n",
    "X_test[\"day_of_week\"] = X_test[\"lpep_pickup_datetime\"].dt.weekday\n",
    "\n",
    "# Convert to numeric \n",
    "map_dict = {'N':0, 'Y':1}\n",
    "X_train['Store_and_fwd_flag'] = X_train['Store_and_fwd_flag'].map(map_dict)\n",
    "X_test['Store_and_fwd_flag'] = X_test['Store_and_fwd_flag'].map(map_dict)"
   ]
  },
  {
   "cell_type": "code",
   "execution_count": 150,
   "metadata": {},
   "outputs": [],
   "source": [
    "cols_to_drop = ['lpep_pickup_datetime', 'Lpep_dropoff_datetime', 'pickup', 'dropoff']\n",
    "train_y = X_train.tip_percentage.values"
   ]
  },
  {
   "cell_type": "code",
   "execution_count": 151,
   "metadata": {},
   "outputs": [],
   "source": [
    "train_X = X_train.drop(cols_to_drop + ['Tip_amount', 'tip_percentage'], axis=1)"
   ]
  },
  {
   "cell_type": "code",
   "execution_count": 153,
   "metadata": {},
   "outputs": [
    {
     "data": {
      "text/plain": [
       "Index(['VendorID', 'Store_and_fwd_flag', 'Pickup_longitude', 'Pickup_latitude',\n",
       "       'Dropoff_longitude', 'Dropoff_latitude', 'Passenger_count',\n",
       "       'Trip_distance', 'Fare_amount', 'MTA_tax', 'Tolls_amount',\n",
       "       'improvement_surcharge', 'Total_amount', 'Payment_type', 'Trip_type',\n",
       "       'pickup_hour', 'dropoff_hour', 'Airport', 'weekday', 'pickup_day',\n",
       "       'pickup_month', 'week_of_year', 'day_of_week'],\n",
       "      dtype='object')"
      ]
     },
     "execution_count": 153,
     "metadata": {},
     "output_type": "execute_result"
    }
   ],
   "source": [
    "train_X.columns"
   ]
  },
  {
   "cell_type": "code",
   "execution_count": 155,
   "metadata": {},
   "outputs": [],
   "source": [
    "test_X = X_test.drop(cols_to_drop, axis=1)"
   ]
  },
  {
   "cell_type": "code",
   "execution_count": 170,
   "metadata": {},
   "outputs": [],
   "source": [
    "import lightgbm as lgb\n",
    "def gradient_boosting(train_X, train_y, val_X, val_y, test_X, eta=0.05, num_leaves=10, max_depth=5, min_child_weight=1, subsample=0.8, colsample=0.7, num_rounds=8000, early_stopping_rounds=100, seed_val=33):\n",
    "    params = {}\n",
    "    params[\"objective\"] = \"regression\"\n",
    "    params['metric'] = \"l2_root\"\n",
    "    params[\"learning_rate\"] = eta\n",
    "    params[\"min_child_weight\"] = min_child_weight\n",
    "    params[\"bagging_fraction\"] = subsample\n",
    "    params[\"bagging_seed\"] = seed_val\n",
    "    params[\"feature_fraction\"] = colsample\n",
    "    params[\"verbosity\"] = 0\n",
    "    params[\"max_depth\"] = max_depth\n",
    "    params[\"num_leaves\"] = num_leaves\n",
    "    params[\"nthread\"] = -1\n",
    "\n",
    "    lgtrain = lgb.Dataset(train_X, label=train_y)\n",
    "    lgval = lgb.Dataset(val_X, label = val_y)\n",
    "    model = lgb.train(params, lgtrain, num_rounds, valid_sets=lgval, early_stopping_rounds=early_stopping_rounds, verbose_eval=20)\n",
    "\n",
    "    pred_val = model.predict(val_X, num_iteration=model.best_iteration)\n",
    "    pred_test = model.predict(test_X, num_iteration=model.best_iteration)\n",
    "\n",
    "    return pred_val, pred_test, model"
   ]
  },
  {
   "cell_type": "code",
   "execution_count": 168,
   "metadata": {},
   "outputs": [],
   "source": [
    "# Convert to numeric \n",
    "map_dict = {'JFK':1, 'La Guardia':2, 'Newark':3, 'NOT':0}\n",
    "X_train['Airport'] = X_train['Airport'].map(map_dict)\n",
    "X_test['Airport'] = X_test['Airport'].map(map_dict)"
   ]
  },
  {
   "cell_type": "code",
   "execution_count": 172,
   "metadata": {},
   "outputs": [],
   "source": [
    "train_X['Airport']=train_X['Airport'].map(map_dict)\n",
    "test_X['Airport']=test_X['Airport'].map(map_dict)"
   ]
  },
  {
   "cell_type": "code",
   "execution_count": 175,
   "metadata": {},
   "outputs": [
    {
     "name": "stderr",
     "output_type": "stream",
     "text": [
      "/home/nestorghh/anaconda3/lib/python3.7/site-packages/ipykernel_launcher.py:6: DeprecationWarning: \n",
      ".ix is deprecated. Please use\n",
      ".loc for label based indexing or\n",
      ".iloc for positional indexing\n",
      "\n",
      "See the documentation here:\n",
      "http://pandas.pydata.org/pandas-docs/stable/indexing.html#ix-indexer-is-deprecated\n",
      "  \n",
      "/home/nestorghh/anaconda3/lib/python3.7/site-packages/ipykernel_launcher.py:6: FutureWarning: \n",
      "Passing list-likes to .loc or [] with any missing label will raise\n",
      "KeyError in the future, you can use .reindex() as an alternative.\n",
      "\n",
      "See the documentation here:\n",
      "https://pandas.pydata.org/pandas-docs/stable/indexing.html#deprecate-loc-reindex-listlike\n",
      "  \n"
     ]
    },
    {
     "name": "stdout",
     "output_type": "stream",
     "text": [
      "Training until validation scores don't improve for 100 rounds.\n",
      "[20]\tvalid_0's rmse: 0.0783199\n",
      "[40]\tvalid_0's rmse: 0.0783279\n",
      "[60]\tvalid_0's rmse: 0.0783332\n",
      "[80]\tvalid_0's rmse: 0.0783416\n",
      "[100]\tvalid_0's rmse: 0.07835\n",
      "Early stopping, best iteration is:\n",
      "[1]\tvalid_0's rmse: 0.0783128\n",
      "Training until validation scores don't improve for 100 rounds.\n",
      "[20]\tvalid_0's rmse: 0.0787881\n",
      "[40]\tvalid_0's rmse: 0.0788023\n",
      "[60]\tvalid_0's rmse: 0.078806\n",
      "[80]\tvalid_0's rmse: 0.0788168\n",
      "[100]\tvalid_0's rmse: 0.0788252\n",
      "Early stopping, best iteration is:\n",
      "[2]\tvalid_0's rmse: 0.078772\n",
      "Training until validation scores don't improve for 100 rounds.\n",
      "[20]\tvalid_0's rmse: 0.0788673\n",
      "[40]\tvalid_0's rmse: 0.0788666\n",
      "[60]\tvalid_0's rmse: 0.0788838\n",
      "[80]\tvalid_0's rmse: 0.0788904\n",
      "[100]\tvalid_0's rmse: 0.0789021\n",
      "Early stopping, best iteration is:\n",
      "[5]\tvalid_0's rmse: 0.0788586\n",
      "Training until validation scores don't improve for 100 rounds.\n",
      "[20]\tvalid_0's rmse: 0.0784271\n",
      "[40]\tvalid_0's rmse: 0.0784321\n",
      "[60]\tvalid_0's rmse: 0.078447\n",
      "[80]\tvalid_0's rmse: 0.0784505\n",
      "[100]\tvalid_0's rmse: 0.0784579\n",
      "Early stopping, best iteration is:\n",
      "[1]\tvalid_0's rmse: 0.078416\n",
      "Training until validation scores don't improve for 100 rounds.\n",
      "[20]\tvalid_0's rmse: 0.0787773\n",
      "[40]\tvalid_0's rmse: 0.0787804\n",
      "[60]\tvalid_0's rmse: 0.078788\n",
      "[80]\tvalid_0's rmse: 0.0787875\n",
      "[100]\tvalid_0's rmse: 0.0787945\n",
      "Early stopping, best iteration is:\n",
      "[2]\tvalid_0's rmse: 0.078762\n",
      "Training until validation scores don't improve for 100 rounds.\n",
      "[20]\tvalid_0's rmse: 0.0786171\n",
      "[40]\tvalid_0's rmse: 0.0786288\n",
      "[60]\tvalid_0's rmse: 0.0786361\n",
      "[80]\tvalid_0's rmse: 0.0786512\n",
      "[100]\tvalid_0's rmse: 0.0786639\n",
      "Early stopping, best iteration is:\n",
      "[2]\tvalid_0's rmse: 0.078602\n",
      "Training until validation scores don't improve for 100 rounds.\n",
      "[20]\tvalid_0's rmse: 0.0783069\n",
      "[40]\tvalid_0's rmse: 0.0783091\n",
      "[60]\tvalid_0's rmse: 0.0783022\n",
      "[80]\tvalid_0's rmse: 0.0783122\n",
      "[100]\tvalid_0's rmse: 0.0783191\n",
      "Early stopping, best iteration is:\n",
      "[3]\tvalid_0's rmse: 0.0782908\n",
      "Training until validation scores don't improve for 100 rounds.\n",
      "[20]\tvalid_0's rmse: 0.0787421\n",
      "[40]\tvalid_0's rmse: 0.0787647\n",
      "[60]\tvalid_0's rmse: 0.0787749\n",
      "[80]\tvalid_0's rmse: 0.0787875\n",
      "[100]\tvalid_0's rmse: 0.078802\n",
      "Early stopping, best iteration is:\n",
      "[1]\tvalid_0's rmse: 0.0787227\n",
      "Training until validation scores don't improve for 100 rounds.\n",
      "[20]\tvalid_0's rmse: 0.079075\n",
      "[40]\tvalid_0's rmse: 0.0790877\n",
      "[60]\tvalid_0's rmse: 0.0791003\n",
      "[80]\tvalid_0's rmse: 0.0791098\n",
      "[100]\tvalid_0's rmse: 0.0791248\n",
      "Early stopping, best iteration is:\n",
      "[1]\tvalid_0's rmse: 0.0790652\n",
      "Training until validation scores don't improve for 100 rounds.\n",
      "[20]\tvalid_0's rmse: 0.0771722\n",
      "[40]\tvalid_0's rmse: 0.0771831\n",
      "[60]\tvalid_0's rmse: 0.0771911\n",
      "[80]\tvalid_0's rmse: 0.0771959\n",
      "[100]\tvalid_0's rmse: 0.0772032\n",
      "Early stopping, best iteration is:\n",
      "[4]\tvalid_0's rmse: 0.0771677\n",
      "[0.07831279586863214, 0.07877202967789083, 0.07885860101472243, 0.07841598056146101, 0.07876200450792883, 0.07860196122835356, 0.07829084852241698, 0.07872269129307033, 0.07906516224453287, 0.07716769497510674]\n",
      "Mean RMSE score :  0.07849697698941158\n"
     ]
    }
   ],
   "source": [
    "kf = model_selection.KFold(n_splits=10, shuffle=True, random_state=33) # let us use 10-fold CV\n",
    "cv_scores = []\n",
    "pred_test_full = 0\n",
    "pred_val_full = np.zeros(X_train.shape[0])\n",
    "for dev_index, val_index in kf.split(train_X):\n",
    "    dev_X, val_X = train_X.ix[dev_index], train_X.ix[val_index]\n",
    "    dev_y, val_y = train_y[dev_index], train_y[val_index]\n",
    "    pred_val, pred_test, model = gradient_boosting(dev_X, dev_y, val_X, val_y, test_X, num_rounds=1000, num_leaves=10, max_depth=8, eta=0.3)\n",
    "    pred_val_full[val_index] = pred_val\n",
    "    pred_test_full += pred_test\n",
    "    cv_scores.append(np.sqrt(metrics.mean_squared_error(val_y, pred_val)))\n",
    "print(cv_scores)\n",
    "print(\"Mean RMSE score : \",np.mean(cv_scores))"
   ]
  },
  {
   "cell_type": "markdown",
   "metadata": {},
   "source": [
    "### We obtain an RMSE of 0.078 using gradient boosting machine. \n",
    "\n",
    "#### RMSE has the same unit as the dependent variable (tip_percentage). Remember that the domain for our dependent variable is [0,1]. By normalizing the RMSE, we get 0.078/(1-0)=0.07. Having this in mind, we can conclude that the model is good enough.\n",
    "\n",
    "RMSE can be interpreted as the standard deviation of the unexplained variance, and has the useful property of being in the same units as the response variable. Lower values of RMSE indicate better fit. RMSE is a good measure of how accurately the model predicts the response, and it is the most important criterion for fit if the main purpose of the model is prediction."
   ]
  },
  {
   "cell_type": "markdown",
   "metadata": {},
   "source": [
    "### Feature Importance (Top 10)\n",
    "We list the most important variables in predicting the tip_percentage."
   ]
  },
  {
   "cell_type": "code",
   "execution_count": 180,
   "metadata": {},
   "outputs": [
    {
     "data": {
      "image/png": "[encoded data removed]",
      "text/plain": [
       "<Figure size 432x288 with 1 Axes>"
      ]
     },
     "metadata": {},
     "output_type": "display_data"
    }
   ],
   "source": [
    "var = lgb.plot_importance(model, max_num_features=10, height = 0.5)\n",
    "plt.show()"
   ]
  },
  {
   "cell_type": "markdown",
   "metadata": {},
   "source": [
    "## Question 5\n",
    "\n",
    "Option A: Distributions\n",
    "\n",
    "Build a derived variable representing the average speed over the course of a trip.\n",
    "\n",
    "Can you perform a test to determine if the average trip speeds are materially the same in all weeks of September? If you decide they are not the same, can you form a hypothesis regarding why they differ?\n",
    "\n",
    "Can you build up a hypothesis of average trip speed as a function of time of day?"
   ]
  },
  {
   "cell_type": "code",
   "execution_count": 185,
   "metadata": {},
   "outputs": [],
   "source": [
    "# create the variable trip_time\n",
    "d['Trip_time'] = (d['dropoff'] - d['pickup']).apply(lambda x: x.total_seconds())"
   ]
  },
  {
   "cell_type": "code",
   "execution_count": 186,
   "metadata": {},
   "outputs": [],
   "source": [
    "# filter out instances having trip_time less than one minute.\n",
    "d = d[d['Trip_time']>60]"
   ]
  },
  {
   "cell_type": "code",
   "execution_count": 188,
   "metadata": {},
   "outputs": [],
   "source": [
    "# compute average speed (miles per hour)\n",
    "d['speed'] = 3600*(d['Trip_distance']/d['Trip_time'])"
   ]
  },
  {
   "cell_type": "code",
   "execution_count": 193,
   "metadata": {},
   "outputs": [],
   "source": [
    "# we filter out records having >=120 miles per hour since this may be data errors and  affect our analysis.\n",
    "d = d[d['speed']<120]"
   ]
  },
  {
   "cell_type": "code",
   "execution_count": 194,
   "metadata": {},
   "outputs": [],
   "source": [
    "# derive the week\n",
    "d['week'] = d['dropoff'].apply(lambda x : x.week)"
   ]
  },
  {
   "cell_type": "code",
   "execution_count": 195,
   "metadata": {},
   "outputs": [
    {
     "data": {
      "text/plain": [
       "37    350322\n",
       "38    346848\n",
       "39    326536\n",
       "36    286617\n",
       "40    128155\n",
       "Name: week, dtype: int64"
      ]
     },
     "execution_count": 195,
     "metadata": {},
     "output_type": "execute_result"
    }
   ],
   "source": [
    "d['week'].value_counts()"
   ]
  },
  {
   "cell_type": "code",
   "execution_count": 196,
   "metadata": {},
   "outputs": [
    {
     "data": {
      "text/html": [
       "<div>\n",
       "<style scoped>\n",
       "    .dataframe tbody tr th:only-of-type {\n",
       "        vertical-align: middle;\n",
       "    }\n",
       "\n",
       "    .dataframe tbody tr th {\n",
       "        vertical-align: top;\n",
       "    }\n",
       "\n",
       "    .dataframe thead th {\n",
       "        text-align: right;\n",
       "    }\n",
       "</style>\n",
       "<table border=\"1\" class=\"dataframe\">\n",
       "  <thead>\n",
       "    <tr style=\"text-align: right;\">\n",
       "      <th></th>\n",
       "      <th>speed</th>\n",
       "    </tr>\n",
       "    <tr>\n",
       "      <th>week</th>\n",
       "      <th></th>\n",
       "    </tr>\n",
       "  </thead>\n",
       "  <tbody>\n",
       "    <tr>\n",
       "      <th>36</th>\n",
       "      <td>13.104057</td>\n",
       "    </tr>\n",
       "    <tr>\n",
       "      <th>37</th>\n",
       "      <td>12.460126</td>\n",
       "    </tr>\n",
       "    <tr>\n",
       "      <th>38</th>\n",
       "      <td>12.468493</td>\n",
       "    </tr>\n",
       "    <tr>\n",
       "      <th>39</th>\n",
       "      <td>12.916837</td>\n",
       "    </tr>\n",
       "    <tr>\n",
       "      <th>40</th>\n",
       "      <td>12.222730</td>\n",
       "    </tr>\n",
       "  </tbody>\n",
       "</table>\n",
       "</div>"
      ],
      "text/plain": [
       "          speed\n",
       "week           \n",
       "36    13.104057\n",
       "37    12.460126\n",
       "38    12.468493\n",
       "39    12.916837\n",
       "40    12.222730"
      ]
     },
     "execution_count": 196,
     "metadata": {},
     "output_type": "execute_result"
    }
   ],
   "source": [
    "d[['speed','week']].groupby('week').mean()"
   ]
  },
  {
   "cell_type": "markdown",
   "metadata": {},
   "source": [
    "#### Let's build a boxplot to see if there are any visual differences across weeks."
   ]
  },
  {
   "cell_type": "code",
   "execution_count": 199,
   "metadata": {},
   "outputs": [
    {
     "data": {
      "image/png": "[encoded data removed]",
      "text/plain": [
       "<Figure size 432x288 with 1 Axes>"
      ]
     },
     "metadata": {},
     "output_type": "display_data"
    }
   ],
   "source": [
    "d.boxplot('speed','week')\n",
    "plt.ylim([0,20]) # cut off outliers\n",
    "plt.ylabel('Speed (mph)')\n",
    "plt.show()"
   ]
  },
  {
   "cell_type": "markdown",
   "metadata": {},
   "source": [
    "We do not see any significant visual differences. However, I will run pairwise t-sudent test to check this in a more rigurous way."
   ]
  },
  {
   "cell_type": "code",
   "execution_count": 250,
   "metadata": {},
   "outputs": [
    {
     "data": {
      "text/plain": [
       "F_onewayResult(statistic=1092.047375861616, pvalue=0.0)"
      ]
     },
     "execution_count": 250,
     "metadata": {},
     "output_type": "execute_result"
    }
   ],
   "source": [
    "#one-way anova\n",
    "scipy.stats.f_oneway(d['speed'][d['week']==36],d['speed'][d['week']==37],d['speed'][d['week']==38],d['speed'][d['week']==39], d['speed'][d['week']==40])\n"
   ]
  },
  {
   "cell_type": "markdown",
   "metadata": {},
   "source": [
    "The ANOVa test indicates that we reject the null hypothesis and conclude that the differences between the groups are statistically significant, i.e, the week of the month seems to be related to the trip speed. "
   ]
  },
  {
   "cell_type": "markdown",
   "metadata": {},
   "source": [
    "#### Does the speed change over the course of the day? \n",
    "We use one-way anova test on multiple samples. "
   ]
  },
  {
   "cell_type": "code",
   "execution_count": 220,
   "metadata": {},
   "outputs": [
    {
     "data": {
      "image/png": "[encoded data removed]",
      "text/plain": [
       "<Figure size 432x288 with 1 Axes>"
      ]
     },
     "metadata": {},
     "output_type": "display_data"
    }
   ],
   "source": [
    "d.boxplot('speed','dropoff_hour')\n",
    "plt.ylim([3,26])\n",
    "plt.ylabel('Speed (mph)')\n",
    "plt.xlabel('Hour')\n",
    "plt.show()"
   ]
  },
  {
   "cell_type": "markdown",
   "metadata": {},
   "source": [
    "We observe that trips are faster early morning (4-6 am) and gets slow in peak hours (4-6 pm). I conjecture that this happen due to less traffic during the early morning."
   ]
  },
  {
   "cell_type": "code",
   "execution_count": 224,
   "metadata": {},
   "outputs": [
    {
     "name": "stdout",
     "output_type": "stream",
     "text": [
      "one way anova test: F_onewayResult(statistic=4992.414804189994, pvalue=0.0)\n"
     ]
    }
   ],
   "source": [
    "# perform anova test\n",
    "hours = range(24)\n",
    "cmd = \"scipy.stats.f_oneway(\"\n",
    "for h in hours:\n",
    "    cmd+=\"d[d.dropoff_hour==\"+str(h)+\"].speed,\"\n",
    "cmd=cmd[:-1]+\")\"\n",
    "print (\"one way anova test:\", eval(cmd)) #evaluate the command and print"
   ]
  },
  {
   "cell_type": "markdown",
   "metadata": {},
   "source": [
    "As suggested by the one-way anova test, the speed is different in different hours (pvalue=0)."
   ]
  },
  {
   "cell_type": "markdown",
   "metadata": {},
   "source": [
    "# Findings\n",
    "\n",
    "#### 1. We notice that the trip_distance follows a lognormal distribution\n",
    "#### 2. We observe longer trips early morning (4-7 am) and then again at 10-11 pm.\n",
    "#### 3. We could build a predictive model with a good performance to predict tip_percentage. RMSE was about 0.078.\n",
    "#### 4. We  observe statistically sifgnificant differences in travel speed over the weeks of September 2015.\n",
    "#### 5. We do note differenses in travel speed over the course of the day: trips in the early morning (4-6 am) are faster than those taking place during peak hours."
   ]
  }
 ],
 "metadata": {
  "kernelspec": {
   "display_name": "Python 3",
   "language": "python",
   "name": "python3"
  },
  "language_info": {
   "codemirror_mode": {
    "name": "ipython",
    "version": 3
   },
   "file_extension": ".py",
   "mimetype": "text/x-python",
   "name": "python",
   "nbconvert_exporter": "python",
   "pygments_lexer": "ipython3",
   "version": "3.7.0"
  }
 },
 "nbformat": 4,
 "nbformat_minor": 2
}
